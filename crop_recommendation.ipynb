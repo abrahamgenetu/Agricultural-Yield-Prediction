{
  "cells": [
    {
      "cell_type": "markdown",
      "metadata": {
        "id": "view-in-github",
        "colab_type": "text"
      },
      "source": [
        "<a href=\"https://colab.research.google.com/github/abrahamgenetu/Agricultural-data-analaysis/blob/main/crop_recommendation.ipynb\" target=\"_parent\"><img src=\"https://colab.research.google.com/assets/colab-badge.svg\" alt=\"Open In Colab\"/></a>"
      ]
    },
    {
      "cell_type": "markdown",
      "id": "demonstrated-delaware",
      "metadata": {
        "papermill": {
          "duration": 0.039153,
          "end_time": "2021-05-14T16:30:10.394742",
          "exception": false,
          "start_time": "2021-05-14T16:30:10.355589",
          "status": "completed"
        },
        "tags": [],
        "id": "demonstrated-delaware"
      },
      "source": [
        "# IMPORT MODULE"
      ]
    },
    {
      "cell_type": "code",
      "execution_count": 1,
      "id": "amended-bundle",
      "metadata": {
        "execution": {
          "iopub.execute_input": "2021-05-14T16:30:10.481779Z",
          "iopub.status.busy": "2021-05-14T16:30:10.481065Z",
          "iopub.status.idle": "2021-05-14T16:30:11.442189Z",
          "shell.execute_reply": "2021-05-14T16:30:11.440700Z"
        },
        "papermill": {
          "duration": 1.010031,
          "end_time": "2021-05-14T16:30:11.442363",
          "exception": false,
          "start_time": "2021-05-14T16:30:10.432332",
          "status": "completed"
        },
        "tags": [],
        "id": "amended-bundle"
      },
      "outputs": [],
      "source": [
        "import pandas as pd\n",
        "import numpy as np\n",
        "import seaborn as sns\n",
        "import matplotlib.pyplot as plt\n",
        "%matplotlib inline"
      ]
    },
    {
      "cell_type": "markdown",
      "id": "pressed-metropolitan",
      "metadata": {
        "papermill": {
          "duration": 0.037538,
          "end_time": "2021-05-14T16:30:11.517975",
          "exception": false,
          "start_time": "2021-05-14T16:30:11.480437",
          "status": "completed"
        },
        "tags": [],
        "id": "pressed-metropolitan"
      },
      "source": [
        "# READ THE DATASET"
      ]
    },
    {
      "cell_type": "code",
      "execution_count": 2,
      "id": "adjacent-mistress",
      "metadata": {
        "execution": {
          "iopub.execute_input": "2021-05-14T16:30:11.598760Z",
          "iopub.status.busy": "2021-05-14T16:30:11.598040Z",
          "iopub.status.idle": "2021-05-14T16:30:11.621199Z",
          "shell.execute_reply": "2021-05-14T16:30:11.620489Z"
        },
        "papermill": {
          "duration": 0.065744,
          "end_time": "2021-05-14T16:30:11.621356",
          "exception": false,
          "start_time": "2021-05-14T16:30:11.555612",
          "status": "completed"
        },
        "tags": [],
        "id": "adjacent-mistress"
      },
      "outputs": [],
      "source": [
        "data = pd.read_csv('/content/Crop_recommendation.xls')"
      ]
    },
    {
      "cell_type": "code",
      "execution_count": 3,
      "id": "dangerous-finland",
      "metadata": {
        "execution": {
          "iopub.execute_input": "2021-05-14T16:30:11.709381Z",
          "iopub.status.busy": "2021-05-14T16:30:11.707775Z",
          "iopub.status.idle": "2021-05-14T16:30:11.731878Z",
          "shell.execute_reply": "2021-05-14T16:30:11.731175Z"
        },
        "papermill": {
          "duration": 0.072766,
          "end_time": "2021-05-14T16:30:11.732036",
          "exception": false,
          "start_time": "2021-05-14T16:30:11.659270",
          "status": "completed"
        },
        "tags": [],
        "colab": {
          "base_uri": "https://localhost:8080/",
          "height": 207
        },
        "id": "dangerous-finland",
        "outputId": "e308f940-7fe9-4637-c89d-ece0ba70dbc6"
      },
      "outputs": [
        {
          "output_type": "execute_result",
          "data": {
            "text/plain": [
              "    N   P   K  temperature   humidity        ph    rainfall label\n",
              "0  90  42  43    20.879744  82.002744  6.502985  202.935536  rice\n",
              "1  85  58  41    21.770462  80.319644  7.038096  226.655537  rice\n",
              "2  60  55  44    23.004459  82.320763  7.840207  263.964248  rice\n",
              "3  74  35  40    26.491096  80.158363  6.980401  242.864034  rice\n",
              "4  78  42  42    20.130175  81.604873  7.628473  262.717340  rice"
            ],
            "text/html": [
              "\n",
              "  <div id=\"df-8730e85c-f8e6-4e72-b65c-4cde7376c682\" class=\"colab-df-container\">\n",
              "    <div>\n",
              "<style scoped>\n",
              "    .dataframe tbody tr th:only-of-type {\n",
              "        vertical-align: middle;\n",
              "    }\n",
              "\n",
              "    .dataframe tbody tr th {\n",
              "        vertical-align: top;\n",
              "    }\n",
              "\n",
              "    .dataframe thead th {\n",
              "        text-align: right;\n",
              "    }\n",
              "</style>\n",
              "<table border=\"1\" class=\"dataframe\">\n",
              "  <thead>\n",
              "    <tr style=\"text-align: right;\">\n",
              "      <th></th>\n",
              "      <th>N</th>\n",
              "      <th>P</th>\n",
              "      <th>K</th>\n",
              "      <th>temperature</th>\n",
              "      <th>humidity</th>\n",
              "      <th>ph</th>\n",
              "      <th>rainfall</th>\n",
              "      <th>label</th>\n",
              "    </tr>\n",
              "  </thead>\n",
              "  <tbody>\n",
              "    <tr>\n",
              "      <th>0</th>\n",
              "      <td>90</td>\n",
              "      <td>42</td>\n",
              "      <td>43</td>\n",
              "      <td>20.879744</td>\n",
              "      <td>82.002744</td>\n",
              "      <td>6.502985</td>\n",
              "      <td>202.935536</td>\n",
              "      <td>rice</td>\n",
              "    </tr>\n",
              "    <tr>\n",
              "      <th>1</th>\n",
              "      <td>85</td>\n",
              "      <td>58</td>\n",
              "      <td>41</td>\n",
              "      <td>21.770462</td>\n",
              "      <td>80.319644</td>\n",
              "      <td>7.038096</td>\n",
              "      <td>226.655537</td>\n",
              "      <td>rice</td>\n",
              "    </tr>\n",
              "    <tr>\n",
              "      <th>2</th>\n",
              "      <td>60</td>\n",
              "      <td>55</td>\n",
              "      <td>44</td>\n",
              "      <td>23.004459</td>\n",
              "      <td>82.320763</td>\n",
              "      <td>7.840207</td>\n",
              "      <td>263.964248</td>\n",
              "      <td>rice</td>\n",
              "    </tr>\n",
              "    <tr>\n",
              "      <th>3</th>\n",
              "      <td>74</td>\n",
              "      <td>35</td>\n",
              "      <td>40</td>\n",
              "      <td>26.491096</td>\n",
              "      <td>80.158363</td>\n",
              "      <td>6.980401</td>\n",
              "      <td>242.864034</td>\n",
              "      <td>rice</td>\n",
              "    </tr>\n",
              "    <tr>\n",
              "      <th>4</th>\n",
              "      <td>78</td>\n",
              "      <td>42</td>\n",
              "      <td>42</td>\n",
              "      <td>20.130175</td>\n",
              "      <td>81.604873</td>\n",
              "      <td>7.628473</td>\n",
              "      <td>262.717340</td>\n",
              "      <td>rice</td>\n",
              "    </tr>\n",
              "  </tbody>\n",
              "</table>\n",
              "</div>\n",
              "    <div class=\"colab-df-buttons\">\n",
              "\n",
              "  <div class=\"colab-df-container\">\n",
              "    <button class=\"colab-df-convert\" onclick=\"convertToInteractive('df-8730e85c-f8e6-4e72-b65c-4cde7376c682')\"\n",
              "            title=\"Convert this dataframe to an interactive table.\"\n",
              "            style=\"display:none;\">\n",
              "\n",
              "  <svg xmlns=\"http://www.w3.org/2000/svg\" height=\"24px\" viewBox=\"0 -960 960 960\">\n",
              "    <path d=\"M120-120v-720h720v720H120Zm60-500h600v-160H180v160Zm220 220h160v-160H400v160Zm0 220h160v-160H400v160ZM180-400h160v-160H180v160Zm440 0h160v-160H620v160ZM180-180h160v-160H180v160Zm440 0h160v-160H620v160Z\"/>\n",
              "  </svg>\n",
              "    </button>\n",
              "\n",
              "  <style>\n",
              "    .colab-df-container {\n",
              "      display:flex;\n",
              "      gap: 12px;\n",
              "    }\n",
              "\n",
              "    .colab-df-convert {\n",
              "      background-color: #E8F0FE;\n",
              "      border: none;\n",
              "      border-radius: 50%;\n",
              "      cursor: pointer;\n",
              "      display: none;\n",
              "      fill: #1967D2;\n",
              "      height: 32px;\n",
              "      padding: 0 0 0 0;\n",
              "      width: 32px;\n",
              "    }\n",
              "\n",
              "    .colab-df-convert:hover {\n",
              "      background-color: #E2EBFA;\n",
              "      box-shadow: 0px 1px 2px rgba(60, 64, 67, 0.3), 0px 1px 3px 1px rgba(60, 64, 67, 0.15);\n",
              "      fill: #174EA6;\n",
              "    }\n",
              "\n",
              "    .colab-df-buttons div {\n",
              "      margin-bottom: 4px;\n",
              "    }\n",
              "\n",
              "    [theme=dark] .colab-df-convert {\n",
              "      background-color: #3B4455;\n",
              "      fill: #D2E3FC;\n",
              "    }\n",
              "\n",
              "    [theme=dark] .colab-df-convert:hover {\n",
              "      background-color: #434B5C;\n",
              "      box-shadow: 0px 1px 3px 1px rgba(0, 0, 0, 0.15);\n",
              "      filter: drop-shadow(0px 1px 2px rgba(0, 0, 0, 0.3));\n",
              "      fill: #FFFFFF;\n",
              "    }\n",
              "  </style>\n",
              "\n",
              "    <script>\n",
              "      const buttonEl =\n",
              "        document.querySelector('#df-8730e85c-f8e6-4e72-b65c-4cde7376c682 button.colab-df-convert');\n",
              "      buttonEl.style.display =\n",
              "        google.colab.kernel.accessAllowed ? 'block' : 'none';\n",
              "\n",
              "      async function convertToInteractive(key) {\n",
              "        const element = document.querySelector('#df-8730e85c-f8e6-4e72-b65c-4cde7376c682');\n",
              "        const dataTable =\n",
              "          await google.colab.kernel.invokeFunction('convertToInteractive',\n",
              "                                                    [key], {});\n",
              "        if (!dataTable) return;\n",
              "\n",
              "        const docLinkHtml = 'Like what you see? Visit the ' +\n",
              "          '<a target=\"_blank\" href=https://colab.research.google.com/notebooks/data_table.ipynb>data table notebook</a>'\n",
              "          + ' to learn more about interactive tables.';\n",
              "        element.innerHTML = '';\n",
              "        dataTable['output_type'] = 'display_data';\n",
              "        await google.colab.output.renderOutput(dataTable, element);\n",
              "        const docLink = document.createElement('div');\n",
              "        docLink.innerHTML = docLinkHtml;\n",
              "        element.appendChild(docLink);\n",
              "      }\n",
              "    </script>\n",
              "  </div>\n",
              "\n",
              "\n",
              "<div id=\"df-984a0d64-0106-4665-bd69-09a987bed193\">\n",
              "  <button class=\"colab-df-quickchart\" onclick=\"quickchart('df-984a0d64-0106-4665-bd69-09a987bed193')\"\n",
              "            title=\"Suggest charts.\"\n",
              "            style=\"display:none;\">\n",
              "\n",
              "<svg xmlns=\"http://www.w3.org/2000/svg\" height=\"24px\"viewBox=\"0 0 24 24\"\n",
              "     width=\"24px\">\n",
              "    <g>\n",
              "        <path d=\"M19 3H5c-1.1 0-2 .9-2 2v14c0 1.1.9 2 2 2h14c1.1 0 2-.9 2-2V5c0-1.1-.9-2-2-2zM9 17H7v-7h2v7zm4 0h-2V7h2v10zm4 0h-2v-4h2v4z\"/>\n",
              "    </g>\n",
              "</svg>\n",
              "  </button>\n",
              "\n",
              "<style>\n",
              "  .colab-df-quickchart {\n",
              "    background-color: #E8F0FE;\n",
              "    border: none;\n",
              "    border-radius: 50%;\n",
              "    cursor: pointer;\n",
              "    display: none;\n",
              "    fill: #1967D2;\n",
              "    height: 32px;\n",
              "    padding: 0 0 0 0;\n",
              "    width: 32px;\n",
              "  }\n",
              "\n",
              "  .colab-df-quickchart:hover {\n",
              "    background-color: #E2EBFA;\n",
              "    box-shadow: 0px 1px 2px rgba(60, 64, 67, 0.3), 0px 1px 3px 1px rgba(60, 64, 67, 0.15);\n",
              "    fill: #174EA6;\n",
              "  }\n",
              "\n",
              "  [theme=dark] .colab-df-quickchart {\n",
              "    background-color: #3B4455;\n",
              "    fill: #D2E3FC;\n",
              "  }\n",
              "\n",
              "  [theme=dark] .colab-df-quickchart:hover {\n",
              "    background-color: #434B5C;\n",
              "    box-shadow: 0px 1px 3px 1px rgba(0, 0, 0, 0.15);\n",
              "    filter: drop-shadow(0px 1px 2px rgba(0, 0, 0, 0.3));\n",
              "    fill: #FFFFFF;\n",
              "  }\n",
              "</style>\n",
              "\n",
              "  <script>\n",
              "    async function quickchart(key) {\n",
              "      const charts = await google.colab.kernel.invokeFunction(\n",
              "          'suggestCharts', [key], {});\n",
              "    }\n",
              "    (() => {\n",
              "      let quickchartButtonEl =\n",
              "        document.querySelector('#df-984a0d64-0106-4665-bd69-09a987bed193 button');\n",
              "      quickchartButtonEl.style.display =\n",
              "        google.colab.kernel.accessAllowed ? 'block' : 'none';\n",
              "    })();\n",
              "  </script>\n",
              "</div>\n",
              "    </div>\n",
              "  </div>\n"
            ]
          },
          "metadata": {},
          "execution_count": 3
        }
      ],
      "source": [
        "data.head()"
      ]
    },
    {
      "cell_type": "markdown",
      "id": "geological-package",
      "metadata": {
        "papermill": {
          "duration": 0.038377,
          "end_time": "2021-05-14T16:30:11.809789",
          "exception": false,
          "start_time": "2021-05-14T16:30:11.771412",
          "status": "completed"
        },
        "tags": [],
        "id": "geological-package"
      },
      "source": [
        "*The dataset above allow the users to build a predictive model to recommend the most suitable crops to grow in a particular farm based on various parameters.*"
      ]
    },
    {
      "cell_type": "markdown",
      "id": "unsigned-plumbing",
      "metadata": {
        "papermill": {
          "duration": 0.038425,
          "end_time": "2021-05-14T16:30:11.886693",
          "exception": false,
          "start_time": "2021-05-14T16:30:11.848268",
          "status": "completed"
        },
        "tags": [],
        "id": "unsigned-plumbing"
      },
      "source": [
        "*Data fields:*\n",
        "\n",
        "* N - ratio of Nitrogen content in soil\n",
        "* P - ratio of Phosphorous content in soil\n",
        "* K - ratio of Potassium content in soil\n",
        "* temperature - temperature in degree Celsius\n",
        "* humidity - relative humidity in %\n",
        "* ph - ph value of the soil\n",
        "* rainfall - rainfall in mm\n"
      ]
    },
    {
      "cell_type": "code",
      "execution_count": 4,
      "id": "future-nancy",
      "metadata": {
        "execution": {
          "iopub.execute_input": "2021-05-14T16:30:11.969900Z",
          "iopub.status.busy": "2021-05-14T16:30:11.969017Z",
          "iopub.status.idle": "2021-05-14T16:30:11.973324Z",
          "shell.execute_reply": "2021-05-14T16:30:11.972793Z"
        },
        "papermill": {
          "duration": 0.047954,
          "end_time": "2021-05-14T16:30:11.973476",
          "exception": false,
          "start_time": "2021-05-14T16:30:11.925522",
          "status": "completed"
        },
        "tags": [],
        "colab": {
          "base_uri": "https://localhost:8080/"
        },
        "id": "future-nancy",
        "outputId": "0a316c50-2247-4a67-acd7-a30fdb59b7e2"
      },
      "outputs": [
        {
          "output_type": "execute_result",
          "data": {
            "text/plain": [
              "(2200, 8)"
            ]
          },
          "metadata": {},
          "execution_count": 4
        }
      ],
      "source": [
        "data.shape"
      ]
    },
    {
      "cell_type": "code",
      "execution_count": 5,
      "id": "preliminary-recommendation",
      "metadata": {
        "execution": {
          "iopub.execute_input": "2021-05-14T16:30:12.055060Z",
          "iopub.status.busy": "2021-05-14T16:30:12.054408Z",
          "iopub.status.idle": "2021-05-14T16:30:12.092665Z",
          "shell.execute_reply": "2021-05-14T16:30:12.093162Z"
        },
        "papermill": {
          "duration": 0.080318,
          "end_time": "2021-05-14T16:30:12.093348",
          "exception": false,
          "start_time": "2021-05-14T16:30:12.013030",
          "status": "completed"
        },
        "tags": [],
        "colab": {
          "base_uri": "https://localhost:8080/",
          "height": 301
        },
        "id": "preliminary-recommendation",
        "outputId": "5fe1d99a-4de3-4b0e-b4d5-7152e6d9efb0"
      },
      "outputs": [
        {
          "output_type": "execute_result",
          "data": {
            "text/plain": [
              "                 N            P            K  temperature     humidity  \\\n",
              "count  2200.000000  2200.000000  2200.000000  2200.000000  2200.000000   \n",
              "mean     50.551818    53.362727    48.149091    25.616244    71.481779   \n",
              "std      36.917334    32.985883    50.647931     5.063749    22.263812   \n",
              "min       0.000000     5.000000     5.000000     8.825675    14.258040   \n",
              "25%      21.000000    28.000000    20.000000    22.769375    60.261953   \n",
              "50%      37.000000    51.000000    32.000000    25.598693    80.473146   \n",
              "75%      84.250000    68.000000    49.000000    28.561654    89.948771   \n",
              "max     140.000000   145.000000   205.000000    43.675493    99.981876   \n",
              "\n",
              "                ph     rainfall  \n",
              "count  2200.000000  2200.000000  \n",
              "mean      6.469480   103.463655  \n",
              "std       0.773938    54.958389  \n",
              "min       3.504752    20.211267  \n",
              "25%       5.971693    64.551686  \n",
              "50%       6.425045    94.867624  \n",
              "75%       6.923643   124.267508  \n",
              "max       9.935091   298.560117  "
            ],
            "text/html": [
              "\n",
              "  <div id=\"df-a7a9ffbb-fe57-4068-b85f-1c15226a3a16\" class=\"colab-df-container\">\n",
              "    <div>\n",
              "<style scoped>\n",
              "    .dataframe tbody tr th:only-of-type {\n",
              "        vertical-align: middle;\n",
              "    }\n",
              "\n",
              "    .dataframe tbody tr th {\n",
              "        vertical-align: top;\n",
              "    }\n",
              "\n",
              "    .dataframe thead th {\n",
              "        text-align: right;\n",
              "    }\n",
              "</style>\n",
              "<table border=\"1\" class=\"dataframe\">\n",
              "  <thead>\n",
              "    <tr style=\"text-align: right;\">\n",
              "      <th></th>\n",
              "      <th>N</th>\n",
              "      <th>P</th>\n",
              "      <th>K</th>\n",
              "      <th>temperature</th>\n",
              "      <th>humidity</th>\n",
              "      <th>ph</th>\n",
              "      <th>rainfall</th>\n",
              "    </tr>\n",
              "  </thead>\n",
              "  <tbody>\n",
              "    <tr>\n",
              "      <th>count</th>\n",
              "      <td>2200.000000</td>\n",
              "      <td>2200.000000</td>\n",
              "      <td>2200.000000</td>\n",
              "      <td>2200.000000</td>\n",
              "      <td>2200.000000</td>\n",
              "      <td>2200.000000</td>\n",
              "      <td>2200.000000</td>\n",
              "    </tr>\n",
              "    <tr>\n",
              "      <th>mean</th>\n",
              "      <td>50.551818</td>\n",
              "      <td>53.362727</td>\n",
              "      <td>48.149091</td>\n",
              "      <td>25.616244</td>\n",
              "      <td>71.481779</td>\n",
              "      <td>6.469480</td>\n",
              "      <td>103.463655</td>\n",
              "    </tr>\n",
              "    <tr>\n",
              "      <th>std</th>\n",
              "      <td>36.917334</td>\n",
              "      <td>32.985883</td>\n",
              "      <td>50.647931</td>\n",
              "      <td>5.063749</td>\n",
              "      <td>22.263812</td>\n",
              "      <td>0.773938</td>\n",
              "      <td>54.958389</td>\n",
              "    </tr>\n",
              "    <tr>\n",
              "      <th>min</th>\n",
              "      <td>0.000000</td>\n",
              "      <td>5.000000</td>\n",
              "      <td>5.000000</td>\n",
              "      <td>8.825675</td>\n",
              "      <td>14.258040</td>\n",
              "      <td>3.504752</td>\n",
              "      <td>20.211267</td>\n",
              "    </tr>\n",
              "    <tr>\n",
              "      <th>25%</th>\n",
              "      <td>21.000000</td>\n",
              "      <td>28.000000</td>\n",
              "      <td>20.000000</td>\n",
              "      <td>22.769375</td>\n",
              "      <td>60.261953</td>\n",
              "      <td>5.971693</td>\n",
              "      <td>64.551686</td>\n",
              "    </tr>\n",
              "    <tr>\n",
              "      <th>50%</th>\n",
              "      <td>37.000000</td>\n",
              "      <td>51.000000</td>\n",
              "      <td>32.000000</td>\n",
              "      <td>25.598693</td>\n",
              "      <td>80.473146</td>\n",
              "      <td>6.425045</td>\n",
              "      <td>94.867624</td>\n",
              "    </tr>\n",
              "    <tr>\n",
              "      <th>75%</th>\n",
              "      <td>84.250000</td>\n",
              "      <td>68.000000</td>\n",
              "      <td>49.000000</td>\n",
              "      <td>28.561654</td>\n",
              "      <td>89.948771</td>\n",
              "      <td>6.923643</td>\n",
              "      <td>124.267508</td>\n",
              "    </tr>\n",
              "    <tr>\n",
              "      <th>max</th>\n",
              "      <td>140.000000</td>\n",
              "      <td>145.000000</td>\n",
              "      <td>205.000000</td>\n",
              "      <td>43.675493</td>\n",
              "      <td>99.981876</td>\n",
              "      <td>9.935091</td>\n",
              "      <td>298.560117</td>\n",
              "    </tr>\n",
              "  </tbody>\n",
              "</table>\n",
              "</div>\n",
              "    <div class=\"colab-df-buttons\">\n",
              "\n",
              "  <div class=\"colab-df-container\">\n",
              "    <button class=\"colab-df-convert\" onclick=\"convertToInteractive('df-a7a9ffbb-fe57-4068-b85f-1c15226a3a16')\"\n",
              "            title=\"Convert this dataframe to an interactive table.\"\n",
              "            style=\"display:none;\">\n",
              "\n",
              "  <svg xmlns=\"http://www.w3.org/2000/svg\" height=\"24px\" viewBox=\"0 -960 960 960\">\n",
              "    <path d=\"M120-120v-720h720v720H120Zm60-500h600v-160H180v160Zm220 220h160v-160H400v160Zm0 220h160v-160H400v160ZM180-400h160v-160H180v160Zm440 0h160v-160H620v160ZM180-180h160v-160H180v160Zm440 0h160v-160H620v160Z\"/>\n",
              "  </svg>\n",
              "    </button>\n",
              "\n",
              "  <style>\n",
              "    .colab-df-container {\n",
              "      display:flex;\n",
              "      gap: 12px;\n",
              "    }\n",
              "\n",
              "    .colab-df-convert {\n",
              "      background-color: #E8F0FE;\n",
              "      border: none;\n",
              "      border-radius: 50%;\n",
              "      cursor: pointer;\n",
              "      display: none;\n",
              "      fill: #1967D2;\n",
              "      height: 32px;\n",
              "      padding: 0 0 0 0;\n",
              "      width: 32px;\n",
              "    }\n",
              "\n",
              "    .colab-df-convert:hover {\n",
              "      background-color: #E2EBFA;\n",
              "      box-shadow: 0px 1px 2px rgba(60, 64, 67, 0.3), 0px 1px 3px 1px rgba(60, 64, 67, 0.15);\n",
              "      fill: #174EA6;\n",
              "    }\n",
              "\n",
              "    .colab-df-buttons div {\n",
              "      margin-bottom: 4px;\n",
              "    }\n",
              "\n",
              "    [theme=dark] .colab-df-convert {\n",
              "      background-color: #3B4455;\n",
              "      fill: #D2E3FC;\n",
              "    }\n",
              "\n",
              "    [theme=dark] .colab-df-convert:hover {\n",
              "      background-color: #434B5C;\n",
              "      box-shadow: 0px 1px 3px 1px rgba(0, 0, 0, 0.15);\n",
              "      filter: drop-shadow(0px 1px 2px rgba(0, 0, 0, 0.3));\n",
              "      fill: #FFFFFF;\n",
              "    }\n",
              "  </style>\n",
              "\n",
              "    <script>\n",
              "      const buttonEl =\n",
              "        document.querySelector('#df-a7a9ffbb-fe57-4068-b85f-1c15226a3a16 button.colab-df-convert');\n",
              "      buttonEl.style.display =\n",
              "        google.colab.kernel.accessAllowed ? 'block' : 'none';\n",
              "\n",
              "      async function convertToInteractive(key) {\n",
              "        const element = document.querySelector('#df-a7a9ffbb-fe57-4068-b85f-1c15226a3a16');\n",
              "        const dataTable =\n",
              "          await google.colab.kernel.invokeFunction('convertToInteractive',\n",
              "                                                    [key], {});\n",
              "        if (!dataTable) return;\n",
              "\n",
              "        const docLinkHtml = 'Like what you see? Visit the ' +\n",
              "          '<a target=\"_blank\" href=https://colab.research.google.com/notebooks/data_table.ipynb>data table notebook</a>'\n",
              "          + ' to learn more about interactive tables.';\n",
              "        element.innerHTML = '';\n",
              "        dataTable['output_type'] = 'display_data';\n",
              "        await google.colab.output.renderOutput(dataTable, element);\n",
              "        const docLink = document.createElement('div');\n",
              "        docLink.innerHTML = docLinkHtml;\n",
              "        element.appendChild(docLink);\n",
              "      }\n",
              "    </script>\n",
              "  </div>\n",
              "\n",
              "\n",
              "<div id=\"df-5f58453f-9a2e-460f-b093-49598fd68572\">\n",
              "  <button class=\"colab-df-quickchart\" onclick=\"quickchart('df-5f58453f-9a2e-460f-b093-49598fd68572')\"\n",
              "            title=\"Suggest charts.\"\n",
              "            style=\"display:none;\">\n",
              "\n",
              "<svg xmlns=\"http://www.w3.org/2000/svg\" height=\"24px\"viewBox=\"0 0 24 24\"\n",
              "     width=\"24px\">\n",
              "    <g>\n",
              "        <path d=\"M19 3H5c-1.1 0-2 .9-2 2v14c0 1.1.9 2 2 2h14c1.1 0 2-.9 2-2V5c0-1.1-.9-2-2-2zM9 17H7v-7h2v7zm4 0h-2V7h2v10zm4 0h-2v-4h2v4z\"/>\n",
              "    </g>\n",
              "</svg>\n",
              "  </button>\n",
              "\n",
              "<style>\n",
              "  .colab-df-quickchart {\n",
              "    background-color: #E8F0FE;\n",
              "    border: none;\n",
              "    border-radius: 50%;\n",
              "    cursor: pointer;\n",
              "    display: none;\n",
              "    fill: #1967D2;\n",
              "    height: 32px;\n",
              "    padding: 0 0 0 0;\n",
              "    width: 32px;\n",
              "  }\n",
              "\n",
              "  .colab-df-quickchart:hover {\n",
              "    background-color: #E2EBFA;\n",
              "    box-shadow: 0px 1px 2px rgba(60, 64, 67, 0.3), 0px 1px 3px 1px rgba(60, 64, 67, 0.15);\n",
              "    fill: #174EA6;\n",
              "  }\n",
              "\n",
              "  [theme=dark] .colab-df-quickchart {\n",
              "    background-color: #3B4455;\n",
              "    fill: #D2E3FC;\n",
              "  }\n",
              "\n",
              "  [theme=dark] .colab-df-quickchart:hover {\n",
              "    background-color: #434B5C;\n",
              "    box-shadow: 0px 1px 3px 1px rgba(0, 0, 0, 0.15);\n",
              "    filter: drop-shadow(0px 1px 2px rgba(0, 0, 0, 0.3));\n",
              "    fill: #FFFFFF;\n",
              "  }\n",
              "</style>\n",
              "\n",
              "  <script>\n",
              "    async function quickchart(key) {\n",
              "      const charts = await google.colab.kernel.invokeFunction(\n",
              "          'suggestCharts', [key], {});\n",
              "    }\n",
              "    (() => {\n",
              "      let quickchartButtonEl =\n",
              "        document.querySelector('#df-5f58453f-9a2e-460f-b093-49598fd68572 button');\n",
              "      quickchartButtonEl.style.display =\n",
              "        google.colab.kernel.accessAllowed ? 'block' : 'none';\n",
              "    })();\n",
              "  </script>\n",
              "</div>\n",
              "    </div>\n",
              "  </div>\n"
            ]
          },
          "metadata": {},
          "execution_count": 5
        }
      ],
      "source": [
        "data.describe()"
      ]
    },
    {
      "cell_type": "code",
      "execution_count": 6,
      "id": "typical-syndicate",
      "metadata": {
        "execution": {
          "iopub.execute_input": "2021-05-14T16:30:12.191998Z",
          "iopub.status.busy": "2021-05-14T16:30:12.191076Z",
          "iopub.status.idle": "2021-05-14T16:30:12.195085Z",
          "shell.execute_reply": "2021-05-14T16:30:12.195720Z"
        },
        "papermill": {
          "duration": 0.063208,
          "end_time": "2021-05-14T16:30:12.195899",
          "exception": false,
          "start_time": "2021-05-14T16:30:12.132691",
          "status": "completed"
        },
        "tags": [],
        "colab": {
          "base_uri": "https://localhost:8080/"
        },
        "id": "typical-syndicate",
        "outputId": "527aad63-a8dc-41da-85b3-e661ad3cd00b"
      },
      "outputs": [
        {
          "output_type": "stream",
          "name": "stdout",
          "text": [
            "<class 'pandas.core.frame.DataFrame'>\n",
            "RangeIndex: 2200 entries, 0 to 2199\n",
            "Data columns (total 8 columns):\n",
            " #   Column       Non-Null Count  Dtype  \n",
            "---  ------       --------------  -----  \n",
            " 0   N            2200 non-null   int64  \n",
            " 1   P            2200 non-null   int64  \n",
            " 2   K            2200 non-null   int64  \n",
            " 3   temperature  2200 non-null   float64\n",
            " 4   humidity     2200 non-null   float64\n",
            " 5   ph           2200 non-null   float64\n",
            " 6   rainfall     2200 non-null   float64\n",
            " 7   label        2200 non-null   object \n",
            "dtypes: float64(4), int64(3), object(1)\n",
            "memory usage: 137.6+ KB\n"
          ]
        }
      ],
      "source": [
        "data.info()"
      ]
    },
    {
      "cell_type": "code",
      "execution_count": 7,
      "id": "pregnant-profession",
      "metadata": {
        "execution": {
          "iopub.execute_input": "2021-05-14T16:30:12.286112Z",
          "iopub.status.busy": "2021-05-14T16:30:12.285136Z",
          "iopub.status.idle": "2021-05-14T16:30:12.290060Z",
          "shell.execute_reply": "2021-05-14T16:30:12.289519Z"
        },
        "papermill": {
          "duration": 0.052948,
          "end_time": "2021-05-14T16:30:12.290197",
          "exception": false,
          "start_time": "2021-05-14T16:30:12.237249",
          "status": "completed"
        },
        "tags": [],
        "colab": {
          "base_uri": "https://localhost:8080/"
        },
        "id": "pregnant-profession",
        "outputId": "68bf385d-3848-4e51-9fe0-464d2888760b"
      },
      "outputs": [
        {
          "output_type": "execute_result",
          "data": {
            "text/plain": [
              "N              0\n",
              "P              0\n",
              "K              0\n",
              "temperature    0\n",
              "humidity       0\n",
              "ph             0\n",
              "rainfall       0\n",
              "label          0\n",
              "dtype: int64"
            ]
          },
          "metadata": {},
          "execution_count": 7
        }
      ],
      "source": [
        "data.isnull().sum()"
      ]
    },
    {
      "cell_type": "markdown",
      "id": "statutory-agriculture",
      "metadata": {
        "papermill": {
          "duration": 0.040147,
          "end_time": "2021-05-14T16:30:12.370852",
          "exception": false,
          "start_time": "2021-05-14T16:30:12.330705",
          "status": "completed"
        },
        "tags": [],
        "id": "statutory-agriculture"
      },
      "source": [
        "*There are no \"NaN\" values in the data.*"
      ]
    },
    {
      "cell_type": "code",
      "execution_count": 8,
      "id": "patient-photographer",
      "metadata": {
        "execution": {
          "iopub.execute_input": "2021-05-14T16:30:12.456911Z",
          "iopub.status.busy": "2021-05-14T16:30:12.456060Z",
          "iopub.status.idle": "2021-05-14T16:30:12.468313Z",
          "shell.execute_reply": "2021-05-14T16:30:12.467733Z"
        },
        "papermill": {
          "duration": 0.057279,
          "end_time": "2021-05-14T16:30:12.468465",
          "exception": false,
          "start_time": "2021-05-14T16:30:12.411186",
          "status": "completed"
        },
        "tags": [],
        "colab": {
          "base_uri": "https://localhost:8080/"
        },
        "id": "patient-photographer",
        "outputId": "d37f52e5-ce13-46b7-be8d-bb27c605bc77"
      },
      "outputs": [
        {
          "output_type": "execute_result",
          "data": {
            "text/plain": [
              "N               137\n",
              "P               117\n",
              "K                73\n",
              "temperature    2200\n",
              "humidity       2200\n",
              "ph             2200\n",
              "rainfall       2200\n",
              "label            22\n",
              "dtype: int64"
            ]
          },
          "metadata": {},
          "execution_count": 8
        }
      ],
      "source": [
        "data.apply(lambda x: len(x.unique()))"
      ]
    },
    {
      "cell_type": "code",
      "execution_count": 9,
      "id": "liable-indie",
      "metadata": {
        "execution": {
          "iopub.execute_input": "2021-05-14T16:30:12.559550Z",
          "iopub.status.busy": "2021-05-14T16:30:12.558660Z",
          "iopub.status.idle": "2021-05-14T16:30:12.564385Z",
          "shell.execute_reply": "2021-05-14T16:30:12.563854Z"
        },
        "papermill": {
          "duration": 0.054632,
          "end_time": "2021-05-14T16:30:12.564543",
          "exception": false,
          "start_time": "2021-05-14T16:30:12.509911",
          "status": "completed"
        },
        "tags": [],
        "colab": {
          "base_uri": "https://localhost:8080/"
        },
        "id": "liable-indie",
        "outputId": "9fe2be78-63d1-41d3-839a-807fa1da8177"
      },
      "outputs": [
        {
          "output_type": "execute_result",
          "data": {
            "text/plain": [
              "rice           100\n",
              "maize          100\n",
              "jute           100\n",
              "cotton         100\n",
              "coconut        100\n",
              "papaya         100\n",
              "orange         100\n",
              "apple          100\n",
              "muskmelon      100\n",
              "watermelon     100\n",
              "grapes         100\n",
              "mango          100\n",
              "banana         100\n",
              "pomegranate    100\n",
              "lentil         100\n",
              "blackgram      100\n",
              "mungbean       100\n",
              "mothbeans      100\n",
              "pigeonpeas     100\n",
              "kidneybeans    100\n",
              "chickpea       100\n",
              "coffee         100\n",
              "Name: label, dtype: int64"
            ]
          },
          "metadata": {},
          "execution_count": 9
        }
      ],
      "source": [
        "data['label'].value_counts()"
      ]
    },
    {
      "cell_type": "markdown",
      "id": "excited-czech",
      "metadata": {
        "papermill": {
          "duration": 0.041432,
          "end_time": "2021-05-14T16:30:12.647530",
          "exception": false,
          "start_time": "2021-05-14T16:30:12.606098",
          "status": "completed"
        },
        "tags": [],
        "id": "excited-czech"
      },
      "source": [
        "# EXPLORATORY DATA ANALYSIS"
      ]
    },
    {
      "cell_type": "code",
      "execution_count": 11,
      "id": "following-horror",
      "metadata": {
        "execution": {
          "iopub.execute_input": "2021-05-14T16:30:12.751443Z",
          "iopub.status.busy": "2021-05-14T16:30:12.750794Z",
          "iopub.status.idle": "2021-05-14T16:30:13.026599Z",
          "shell.execute_reply": "2021-05-14T16:30:13.027067Z"
        },
        "papermill": {
          "duration": 0.338187,
          "end_time": "2021-05-14T16:30:13.027247",
          "exception": false,
          "start_time": "2021-05-14T16:30:12.689060",
          "status": "completed"
        },
        "tags": [],
        "colab": {
          "base_uri": "https://localhost:8080/",
          "height": 754
        },
        "id": "following-horror",
        "outputId": "236df98f-5503-49bd-df27-6cf3bc99c7a4"
      },
      "outputs": [
        {
          "output_type": "stream",
          "name": "stderr",
          "text": [
            "<ipython-input-11-e88560b99017>:2: FutureWarning: The default value of numeric_only in DataFrame.corr is deprecated. In a future version, it will default to False. Select only valid columns or specify the value of numeric_only to silence this warning.\n",
            "  corr=data.corr()\n"
          ]
        },
        {
          "output_type": "execute_result",
          "data": {
            "text/plain": [
              "<Axes: >"
            ]
          },
          "metadata": {},
          "execution_count": 11
        },
        {
          "output_type": "display_data",
          "data": {
            "text/plain": [
              "<Figure size 1400x800 with 2 Axes>"
            ],
            "image/png": "[encoded data removed]"
          },
          "metadata": {}
        }
      ],
      "source": [
        "f,ax=plt.subplots(figsize=(14,8))\n",
        "corr=data.corr()\n",
        "sns.heatmap(corr , ax=ax ,   cmap=\"rocket_r\")"
      ]
    },
    {
      "cell_type": "code",
      "execution_count": 12,
      "id": "devoted-concept",
      "metadata": {
        "execution": {
          "iopub.execute_input": "2021-05-14T16:30:13.117619Z",
          "iopub.status.busy": "2021-05-14T16:30:13.116631Z",
          "iopub.status.idle": "2021-05-14T16:30:13.122244Z",
          "shell.execute_reply": "2021-05-14T16:30:13.122700Z"
        },
        "papermill": {
          "duration": 0.052485,
          "end_time": "2021-05-14T16:30:13.122871",
          "exception": false,
          "start_time": "2021-05-14T16:30:13.070386",
          "status": "completed"
        },
        "tags": [],
        "colab": {
          "base_uri": "https://localhost:8080/"
        },
        "id": "devoted-concept",
        "outputId": "1112a521-a52b-4159-8b2b-80861c04a44c"
      },
      "outputs": [
        {
          "output_type": "execute_result",
          "data": {
            "text/plain": [
              "Index(['N', 'P', 'K', 'temperature', 'humidity', 'ph', 'rainfall', 'label'], dtype='object')"
            ]
          },
          "metadata": {},
          "execution_count": 12
        }
      ],
      "source": [
        "data.columns"
      ]
    },
    {
      "cell_type": "code",
      "execution_count": 13,
      "id": "modified-destiny",
      "metadata": {
        "execution": {
          "iopub.execute_input": "2021-05-14T16:30:13.212970Z",
          "iopub.status.busy": "2021-05-14T16:30:13.212026Z",
          "iopub.status.idle": "2021-05-14T16:30:13.726285Z",
          "shell.execute_reply": "2021-05-14T16:30:13.725554Z"
        },
        "papermill": {
          "duration": 0.560511,
          "end_time": "2021-05-14T16:30:13.726430",
          "exception": false,
          "start_time": "2021-05-14T16:30:13.165919",
          "status": "completed"
        },
        "tags": [],
        "colab": {
          "base_uri": "https://localhost:8080/",
          "height": 760
        },
        "id": "modified-destiny",
        "outputId": "630f7202-f412-45c6-81b5-f73b9cdbed23"
      },
      "outputs": [
        {
          "output_type": "stream",
          "name": "stderr",
          "text": [
            "<ipython-input-13-1ef2d60d4f36>:3: UserWarning: \n",
            "\n",
            "`distplot` is a deprecated function and will be removed in seaborn v0.14.0.\n",
            "\n",
            "Please adapt your code to use either `displot` (a figure-level function with\n",
            "similar flexibility) or `histplot` (an axes-level function for histograms).\n",
            "\n",
            "For a guide to updating your code to use the new functions, please see\n",
            "https://gist.github.com/mwaskom/de44147ed2974457ad6372750bbe5751\n",
            "\n",
            "  sns.distplot(data['N'] , color ='red',ax=ax)\n",
            "<ipython-input-13-1ef2d60d4f36>:6: UserWarning: \n",
            "\n",
            "`distplot` is a deprecated function and will be removed in seaborn v0.14.0.\n",
            "\n",
            "Please adapt your code to use either `displot` (a figure-level function with\n",
            "similar flexibility) or `histplot` (an axes-level function for histograms).\n",
            "\n",
            "For a guide to updating your code to use the new functions, please see\n",
            "https://gist.github.com/mwaskom/de44147ed2974457ad6372750bbe5751\n",
            "\n",
            "  sns.distplot(data['P'] , color ='green' , ax = ax)\n"
          ]
        },
        {
          "output_type": "display_data",
          "data": {
            "text/plain": [
              "<Figure size 2000x500 with 2 Axes>"
            ],
            "image/png": "[encoded data removed]"
          },
          "metadata": {}
        }
      ],
      "source": [
        "f= plt.figure(figsize=(20,5))\n",
        "ax=f.add_subplot(121)\n",
        "sns.distplot(data['N'] , color ='red',ax=ax)\n",
        "\n",
        "ax=f.add_subplot(122)\n",
        "sns.distplot(data['P'] , color ='green' , ax = ax)\n",
        "plt.tight_layout()"
      ]
    },
    {
      "cell_type": "code",
      "execution_count": null,
      "id": "harmful-renewal",
      "metadata": {
        "execution": {
          "iopub.execute_input": "2021-05-14T16:30:13.820401Z",
          "iopub.status.busy": "2021-05-14T16:30:13.819494Z",
          "iopub.status.idle": "2021-05-14T16:30:14.460442Z",
          "shell.execute_reply": "2021-05-14T16:30:14.460967Z"
        },
        "papermill": {
          "duration": 0.689732,
          "end_time": "2021-05-14T16:30:14.461135",
          "exception": false,
          "start_time": "2021-05-14T16:30:13.771403",
          "status": "completed"
        },
        "tags": [],
        "id": "harmful-renewal",
        "outputId": "d763c0b6-712c-4855-ab25-08719595000a"
      },
      "outputs": [
        {
          "name": "stderr",
          "output_type": "stream",
          "text": [
            "/opt/conda/lib/python3.7/site-packages/seaborn/distributions.py:2557: FutureWarning: `distplot` is a deprecated function and will be removed in a future version. Please adapt your code to use either `displot` (a figure-level function with similar flexibility) or `histplot` (an axes-level function for histograms).\n",
            "  warnings.warn(msg, FutureWarning)\n",
            "/opt/conda/lib/python3.7/site-packages/seaborn/distributions.py:2557: FutureWarning: `distplot` is a deprecated function and will be removed in a future version. Please adapt your code to use either `displot` (a figure-level function with similar flexibility) or `histplot` (an axes-level function for histograms).\n",
            "  warnings.warn(msg, FutureWarning)\n"
          ]
        },
        {
          "data": {
            "image/png": "[encoded data removed]",
            "text/plain": [
              "<Figure size 1440x360 with 2 Axes>"
            ]
          },
          "metadata": {
            "needs_background": "light"
          },
          "output_type": "display_data"
        }
      ],
      "source": [
        "f= plt.figure(figsize=(20,5))\n",
        "ax=f.add_subplot(121)\n",
        "sns.distplot(data['K'] , color ='red',ax=ax)\n",
        "\n",
        "ax=f.add_subplot(122)\n",
        "sns.distplot(data['temperature'] , color ='green' , ax = ax)\n",
        "plt.tight_layout()"
      ]
    },
    {
      "cell_type": "code",
      "execution_count": null,
      "id": "answering-hours",
      "metadata": {
        "execution": {
          "iopub.execute_input": "2021-05-14T16:30:14.559773Z",
          "iopub.status.busy": "2021-05-14T16:30:14.558828Z",
          "iopub.status.idle": "2021-05-14T16:30:15.076065Z",
          "shell.execute_reply": "2021-05-14T16:30:15.076538Z"
        },
        "papermill": {
          "duration": 0.568373,
          "end_time": "2021-05-14T16:30:15.076717",
          "exception": false,
          "start_time": "2021-05-14T16:30:14.508344",
          "status": "completed"
        },
        "tags": [],
        "id": "answering-hours",
        "outputId": "9b7b767e-326e-4140-fe50-8ceada9df285"
      },
      "outputs": [
        {
          "name": "stderr",
          "output_type": "stream",
          "text": [
            "/opt/conda/lib/python3.7/site-packages/seaborn/distributions.py:2557: FutureWarning: `distplot` is a deprecated function and will be removed in a future version. Please adapt your code to use either `displot` (a figure-level function with similar flexibility) or `histplot` (an axes-level function for histograms).\n",
            "  warnings.warn(msg, FutureWarning)\n",
            "/opt/conda/lib/python3.7/site-packages/seaborn/distributions.py:2557: FutureWarning: `distplot` is a deprecated function and will be removed in a future version. Please adapt your code to use either `displot` (a figure-level function with similar flexibility) or `histplot` (an axes-level function for histograms).\n",
            "  warnings.warn(msg, FutureWarning)\n"
          ]
        },
        {
          "data": {
            "image/png": "[encoded data removed]",
            "text/plain": [
              "<Figure size 1440x360 with 2 Axes>"
            ]
          },
          "metadata": {
            "needs_background": "light"
          },
          "output_type": "display_data"
        }
      ],
      "source": [
        "f= plt.figure(figsize=(20,5))\n",
        "ax=f.add_subplot(121)\n",
        "sns.distplot(data['humidity'] , color ='red',ax=ax)\n",
        "\n",
        "ax=f.add_subplot(122)\n",
        "sns.distplot(data['ph'] , color ='green' , ax = ax)\n",
        "plt.tight_layout()"
      ]
    },
    {
      "cell_type": "code",
      "execution_count": 14,
      "id": "contemporary-poker",
      "metadata": {
        "execution": {
          "iopub.execute_input": "2021-05-14T16:30:15.203547Z",
          "iopub.status.busy": "2021-05-14T16:30:15.202811Z",
          "iopub.status.idle": "2021-05-14T16:30:15.410790Z",
          "shell.execute_reply": "2021-05-14T16:30:15.410136Z"
        },
        "papermill": {
          "duration": 0.284825,
          "end_time": "2021-05-14T16:30:15.410940",
          "exception": false,
          "start_time": "2021-05-14T16:30:15.126115",
          "status": "completed"
        },
        "tags": [],
        "colab": {
          "base_uri": "https://localhost:8080/",
          "height": 657
        },
        "id": "contemporary-poker",
        "outputId": "3adb764b-20b2-4c00-f00d-26943d438fbc"
      },
      "outputs": [
        {
          "output_type": "stream",
          "name": "stderr",
          "text": [
            "<ipython-input-14-bae0b0915cbe>:1: UserWarning: \n",
            "\n",
            "`distplot` is a deprecated function and will be removed in seaborn v0.14.0.\n",
            "\n",
            "Please adapt your code to use either `displot` (a figure-level function with\n",
            "similar flexibility) or `histplot` (an axes-level function for histograms).\n",
            "\n",
            "For a guide to updating your code to use the new functions, please see\n",
            "https://gist.github.com/mwaskom/de44147ed2974457ad6372750bbe5751\n",
            "\n",
            "  sns.distplot(data['rainfall'],color ='red')\n"
          ]
        },
        {
          "output_type": "execute_result",
          "data": {
            "text/plain": [
              "<Axes: xlabel='rainfall', ylabel='Density'>"
            ]
          },
          "metadata": {},
          "execution_count": 14
        },
        {
          "output_type": "display_data",
          "data": {
            "text/plain": [
              "<Figure size 640x480 with 1 Axes>"
            ],
            "image/png": "[encoded data removed]"
          },
          "metadata": {}
        }
      ],
      "source": [
        "sns.distplot(data['rainfall'],color ='red')"
      ]
    },
    {
      "cell_type": "code",
      "execution_count": 17,
      "id": "attached-poker",
      "metadata": {
        "execution": {
          "iopub.execute_input": "2021-05-14T16:30:15.520132Z",
          "iopub.status.busy": "2021-05-14T16:30:15.519465Z",
          "iopub.status.idle": "2021-05-14T16:30:15.801142Z",
          "shell.execute_reply": "2021-05-14T16:30:15.801604Z"
        },
        "papermill": {
          "duration": 0.339842,
          "end_time": "2021-05-14T16:30:15.801779",
          "exception": false,
          "start_time": "2021-05-14T16:30:15.461937",
          "status": "completed"
        },
        "tags": [],
        "colab": {
          "base_uri": "https://localhost:8080/",
          "height": 393
        },
        "id": "attached-poker",
        "outputId": "3e5797a2-0d58-4c9e-e667-72fd0ae6003e"
      },
      "outputs": [
        {
          "output_type": "error",
          "ename": "ValueError",
          "evalue": "ignored",
          "traceback": [
            "\u001b[0;31m---------------------------------------------------------------------------\u001b[0m",
            "\u001b[0;31mValueError\u001b[0m                                Traceback (most recent call last)",
            "\u001b[0;32m<ipython-input-17-7bfa14ee09aa>\u001b[0m in \u001b[0;36m<cell line: 2>\u001b[0;34m()\u001b[0m\n\u001b[1;32m      1\u001b[0m \u001b[0mf\u001b[0m\u001b[0;34m=\u001b[0m \u001b[0mplt\u001b[0m\u001b[0;34m.\u001b[0m\u001b[0mfigure\u001b[0m\u001b[0;34m(\u001b[0m\u001b[0mfigsize\u001b[0m\u001b[0;34m=\u001b[0m\u001b[0;34m(\u001b[0m\u001b[0;36m15\u001b[0m\u001b[0;34m,\u001b[0m\u001b[0;36m5\u001b[0m\u001b[0;34m)\u001b[0m\u001b[0;34m)\u001b[0m\u001b[0;34m\u001b[0m\u001b[0;34m\u001b[0m\u001b[0m\n\u001b[0;32m----> 2\u001b[0;31m \u001b[0msns\u001b[0m\u001b[0;34m.\u001b[0m\u001b[0mcountplot\u001b[0m\u001b[0;34m(\u001b[0m\u001b[0mdata\u001b[0m\u001b[0;34m[\u001b[0m\u001b[0;34m'label'\u001b[0m\u001b[0;34m]\u001b[0m \u001b[0;34m,\u001b[0m \u001b[0mpalette\u001b[0m \u001b[0;34m=\u001b[0m \u001b[0;34m'Spectral'\u001b[0m\u001b[0;34m)\u001b[0m\u001b[0;34m\u001b[0m\u001b[0;34m\u001b[0m\u001b[0m\n\u001b[0m\u001b[1;32m      3\u001b[0m \u001b[0mplt\u001b[0m\u001b[0;34m.\u001b[0m\u001b[0mxticks\u001b[0m\u001b[0;34m(\u001b[0m\u001b[0mrotation\u001b[0m\u001b[0;34m=\u001b[0m\u001b[0;36m90\u001b[0m\u001b[0;34m)\u001b[0m\u001b[0;34m\u001b[0m\u001b[0;34m\u001b[0m\u001b[0m\n\u001b[1;32m      4\u001b[0m \u001b[0mplt\u001b[0m\u001b[0;34m.\u001b[0m\u001b[0mshow\u001b[0m\u001b[0;34m(\u001b[0m\u001b[0;34m)\u001b[0m\u001b[0;34m\u001b[0m\u001b[0;34m\u001b[0m\u001b[0m\n",
            "\u001b[0;32m/usr/local/lib/python3.10/dist-packages/seaborn/categorical.py\u001b[0m in \u001b[0;36mcountplot\u001b[0;34m(data, x, y, hue, order, hue_order, orient, color, palette, saturation, width, dodge, ax, **kwargs)\u001b[0m\n\u001b[1;32m   2941\u001b[0m         \u001b[0;32mraise\u001b[0m \u001b[0mValueError\u001b[0m\u001b[0;34m(\u001b[0m\u001b[0;34m\"Cannot pass values for both `x` and `y`\"\u001b[0m\u001b[0;34m)\u001b[0m\u001b[0;34m\u001b[0m\u001b[0;34m\u001b[0m\u001b[0m\n\u001b[1;32m   2942\u001b[0m \u001b[0;34m\u001b[0m\u001b[0m\n\u001b[0;32m-> 2943\u001b[0;31m     plotter = _CountPlotter(\n\u001b[0m\u001b[1;32m   2944\u001b[0m         \u001b[0mx\u001b[0m\u001b[0;34m,\u001b[0m \u001b[0my\u001b[0m\u001b[0;34m,\u001b[0m \u001b[0mhue\u001b[0m\u001b[0;34m,\u001b[0m \u001b[0mdata\u001b[0m\u001b[0;34m,\u001b[0m \u001b[0morder\u001b[0m\u001b[0;34m,\u001b[0m \u001b[0mhue_order\u001b[0m\u001b[0;34m,\u001b[0m\u001b[0;34m\u001b[0m\u001b[0;34m\u001b[0m\u001b[0m\n\u001b[1;32m   2945\u001b[0m         \u001b[0mestimator\u001b[0m\u001b[0;34m,\u001b[0m \u001b[0merrorbar\u001b[0m\u001b[0;34m,\u001b[0m \u001b[0mn_boot\u001b[0m\u001b[0;34m,\u001b[0m \u001b[0munits\u001b[0m\u001b[0;34m,\u001b[0m \u001b[0mseed\u001b[0m\u001b[0;34m,\u001b[0m\u001b[0;34m\u001b[0m\u001b[0;34m\u001b[0m\u001b[0m\n",
            "\u001b[0;32m/usr/local/lib/python3.10/dist-packages/seaborn/categorical.py\u001b[0m in \u001b[0;36m__init__\u001b[0;34m(self, x, y, hue, data, order, hue_order, estimator, errorbar, n_boot, units, seed, orient, color, palette, saturation, width, errcolor, errwidth, capsize, dodge)\u001b[0m\n\u001b[1;32m   1528\u001b[0m                  errcolor, errwidth, capsize, dodge):\n\u001b[1;32m   1529\u001b[0m         \u001b[0;34m\"\"\"Initialize the plotter.\"\"\"\u001b[0m\u001b[0;34m\u001b[0m\u001b[0;34m\u001b[0m\u001b[0m\n\u001b[0;32m-> 1530\u001b[0;31m         self.establish_variables(x, y, hue, data, orient,\n\u001b[0m\u001b[1;32m   1531\u001b[0m                                  order, hue_order, units)\n\u001b[1;32m   1532\u001b[0m         \u001b[0mself\u001b[0m\u001b[0;34m.\u001b[0m\u001b[0mestablish_colors\u001b[0m\u001b[0;34m(\u001b[0m\u001b[0mcolor\u001b[0m\u001b[0;34m,\u001b[0m \u001b[0mpalette\u001b[0m\u001b[0;34m,\u001b[0m \u001b[0msaturation\u001b[0m\u001b[0;34m)\u001b[0m\u001b[0;34m\u001b[0m\u001b[0;34m\u001b[0m\u001b[0m\n",
            "\u001b[0;32m/usr/local/lib/python3.10/dist-packages/seaborn/categorical.py\u001b[0m in \u001b[0;36mestablish_variables\u001b[0;34m(self, x, y, hue, data, orient, order, hue_order, units)\u001b[0m\n\u001b[1;32m    514\u001b[0m \u001b[0;34m\u001b[0m\u001b[0m\n\u001b[1;32m    515\u001b[0m                 \u001b[0;31m# Convert to a list of arrays, the common representation\u001b[0m\u001b[0;34m\u001b[0m\u001b[0;34m\u001b[0m\u001b[0m\n\u001b[0;32m--> 516\u001b[0;31m                 \u001b[0mplot_data\u001b[0m \u001b[0;34m=\u001b[0m \u001b[0;34m[\u001b[0m\u001b[0mnp\u001b[0m\u001b[0;34m.\u001b[0m\u001b[0masarray\u001b[0m\u001b[0;34m(\u001b[0m\u001b[0md\u001b[0m\u001b[0;34m,\u001b[0m \u001b[0mfloat\u001b[0m\u001b[0;34m)\u001b[0m \u001b[0;32mfor\u001b[0m \u001b[0md\u001b[0m \u001b[0;32min\u001b[0m \u001b[0mplot_data\u001b[0m\u001b[0;34m]\u001b[0m\u001b[0;34m\u001b[0m\u001b[0;34m\u001b[0m\u001b[0m\n\u001b[0m\u001b[1;32m    517\u001b[0m \u001b[0;34m\u001b[0m\u001b[0m\n\u001b[1;32m    518\u001b[0m                 \u001b[0;31m# The group names will just be numeric indices\u001b[0m\u001b[0;34m\u001b[0m\u001b[0;34m\u001b[0m\u001b[0m\n",
            "\u001b[0;32m/usr/local/lib/python3.10/dist-packages/seaborn/categorical.py\u001b[0m in \u001b[0;36m<listcomp>\u001b[0;34m(.0)\u001b[0m\n\u001b[1;32m    514\u001b[0m \u001b[0;34m\u001b[0m\u001b[0m\n\u001b[1;32m    515\u001b[0m                 \u001b[0;31m# Convert to a list of arrays, the common representation\u001b[0m\u001b[0;34m\u001b[0m\u001b[0;34m\u001b[0m\u001b[0m\n\u001b[0;32m--> 516\u001b[0;31m                 \u001b[0mplot_data\u001b[0m \u001b[0;34m=\u001b[0m \u001b[0;34m[\u001b[0m\u001b[0mnp\u001b[0m\u001b[0;34m.\u001b[0m\u001b[0masarray\u001b[0m\u001b[0;34m(\u001b[0m\u001b[0md\u001b[0m\u001b[0;34m,\u001b[0m \u001b[0mfloat\u001b[0m\u001b[0;34m)\u001b[0m \u001b[0;32mfor\u001b[0m \u001b[0md\u001b[0m \u001b[0;32min\u001b[0m \u001b[0mplot_data\u001b[0m\u001b[0;34m]\u001b[0m\u001b[0;34m\u001b[0m\u001b[0;34m\u001b[0m\u001b[0m\n\u001b[0m\u001b[1;32m    517\u001b[0m \u001b[0;34m\u001b[0m\u001b[0m\n\u001b[1;32m    518\u001b[0m                 \u001b[0;31m# The group names will just be numeric indices\u001b[0m\u001b[0;34m\u001b[0m\u001b[0;34m\u001b[0m\u001b[0m\n",
            "\u001b[0;32m/usr/local/lib/python3.10/dist-packages/pandas/core/series.py\u001b[0m in \u001b[0;36m__array__\u001b[0;34m(self, dtype)\u001b[0m\n\u001b[1;32m    891\u001b[0m               dtype='datetime64[ns]')\n\u001b[1;32m    892\u001b[0m         \"\"\"\n\u001b[0;32m--> 893\u001b[0;31m         \u001b[0;32mreturn\u001b[0m \u001b[0mnp\u001b[0m\u001b[0;34m.\u001b[0m\u001b[0masarray\u001b[0m\u001b[0;34m(\u001b[0m\u001b[0mself\u001b[0m\u001b[0;34m.\u001b[0m\u001b[0m_values\u001b[0m\u001b[0;34m,\u001b[0m \u001b[0mdtype\u001b[0m\u001b[0;34m)\u001b[0m\u001b[0;34m\u001b[0m\u001b[0;34m\u001b[0m\u001b[0m\n\u001b[0m\u001b[1;32m    894\u001b[0m \u001b[0;34m\u001b[0m\u001b[0m\n\u001b[1;32m    895\u001b[0m     \u001b[0;31m# ----------------------------------------------------------------------\u001b[0m\u001b[0;34m\u001b[0m\u001b[0;34m\u001b[0m\u001b[0m\n",
            "\u001b[0;31mValueError\u001b[0m: could not convert string to float: 'rice'"
          ]
        },
        {
          "output_type": "display_data",
          "data": {
            "text/plain": [
              "<Figure size 1500x500 with 0 Axes>"
            ]
          },
          "metadata": {}
        }
      ],
      "source": [
        "f= plt.figure(figsize=(15,5))\n",
        "sns.countplot(data['label'] , palette = 'Spectral')\n",
        "plt.xticks(rotation=90)\n",
        "plt.show()"
      ]
    },
    {
      "cell_type": "markdown",
      "id": "finite-massage",
      "metadata": {
        "papermill": {
          "duration": 0.052564,
          "end_time": "2021-05-14T16:30:15.906222",
          "exception": false,
          "start_time": "2021-05-14T16:30:15.853658",
          "status": "completed"
        },
        "tags": [],
        "id": "finite-massage"
      },
      "source": [
        "# SEPERATING FEATURES AND TARGET LABEL"
      ]
    },
    {
      "cell_type": "code",
      "execution_count": 18,
      "id": "patent-christmas",
      "metadata": {
        "execution": {
          "iopub.execute_input": "2021-05-14T16:30:16.019400Z",
          "iopub.status.busy": "2021-05-14T16:30:16.018772Z",
          "iopub.status.idle": "2021-05-14T16:30:16.020703Z",
          "shell.execute_reply": "2021-05-14T16:30:16.021150Z"
        },
        "papermill": {
          "duration": 0.060815,
          "end_time": "2021-05-14T16:30:16.021339",
          "exception": false,
          "start_time": "2021-05-14T16:30:15.960524",
          "status": "completed"
        },
        "tags": [],
        "id": "patent-christmas"
      },
      "outputs": [],
      "source": [
        "X = data.drop('label' ,axis =1)"
      ]
    },
    {
      "cell_type": "code",
      "execution_count": 19,
      "id": "composed-swaziland",
      "metadata": {
        "execution": {
          "iopub.execute_input": "2021-05-14T16:30:16.129425Z",
          "iopub.status.busy": "2021-05-14T16:30:16.128708Z",
          "iopub.status.idle": "2021-05-14T16:30:16.141189Z",
          "shell.execute_reply": "2021-05-14T16:30:16.140481Z"
        },
        "papermill": {
          "duration": 0.067533,
          "end_time": "2021-05-14T16:30:16.141336",
          "exception": false,
          "start_time": "2021-05-14T16:30:16.073803",
          "status": "completed"
        },
        "tags": [],
        "colab": {
          "base_uri": "https://localhost:8080/",
          "height": 207
        },
        "id": "composed-swaziland",
        "outputId": "defc9bda-ff1d-43b1-d5f7-228a3304dc04"
      },
      "outputs": [
        {
          "output_type": "execute_result",
          "data": {
            "text/plain": [
              "    N   P   K  temperature   humidity        ph    rainfall\n",
              "0  90  42  43    20.879744  82.002744  6.502985  202.935536\n",
              "1  85  58  41    21.770462  80.319644  7.038096  226.655537\n",
              "2  60  55  44    23.004459  82.320763  7.840207  263.964248\n",
              "3  74  35  40    26.491096  80.158363  6.980401  242.864034\n",
              "4  78  42  42    20.130175  81.604873  7.628473  262.717340"
            ],
            "text/html": [
              "\n",
              "  <div id=\"df-cc5ca3a7-08e1-44e6-a468-1429d0a6efa7\" class=\"colab-df-container\">\n",
              "    <div>\n",
              "<style scoped>\n",
              "    .dataframe tbody tr th:only-of-type {\n",
              "        vertical-align: middle;\n",
              "    }\n",
              "\n",
              "    .dataframe tbody tr th {\n",
              "        vertical-align: top;\n",
              "    }\n",
              "\n",
              "    .dataframe thead th {\n",
              "        text-align: right;\n",
              "    }\n",
              "</style>\n",
              "<table border=\"1\" class=\"dataframe\">\n",
              "  <thead>\n",
              "    <tr style=\"text-align: right;\">\n",
              "      <th></th>\n",
              "      <th>N</th>\n",
              "      <th>P</th>\n",
              "      <th>K</th>\n",
              "      <th>temperature</th>\n",
              "      <th>humidity</th>\n",
              "      <th>ph</th>\n",
              "      <th>rainfall</th>\n",
              "    </tr>\n",
              "  </thead>\n",
              "  <tbody>\n",
              "    <tr>\n",
              "      <th>0</th>\n",
              "      <td>90</td>\n",
              "      <td>42</td>\n",
              "      <td>43</td>\n",
              "      <td>20.879744</td>\n",
              "      <td>82.002744</td>\n",
              "      <td>6.502985</td>\n",
              "      <td>202.935536</td>\n",
              "    </tr>\n",
              "    <tr>\n",
              "      <th>1</th>\n",
              "      <td>85</td>\n",
              "      <td>58</td>\n",
              "      <td>41</td>\n",
              "      <td>21.770462</td>\n",
              "      <td>80.319644</td>\n",
              "      <td>7.038096</td>\n",
              "      <td>226.655537</td>\n",
              "    </tr>\n",
              "    <tr>\n",
              "      <th>2</th>\n",
              "      <td>60</td>\n",
              "      <td>55</td>\n",
              "      <td>44</td>\n",
              "      <td>23.004459</td>\n",
              "      <td>82.320763</td>\n",
              "      <td>7.840207</td>\n",
              "      <td>263.964248</td>\n",
              "    </tr>\n",
              "    <tr>\n",
              "      <th>3</th>\n",
              "      <td>74</td>\n",
              "      <td>35</td>\n",
              "      <td>40</td>\n",
              "      <td>26.491096</td>\n",
              "      <td>80.158363</td>\n",
              "      <td>6.980401</td>\n",
              "      <td>242.864034</td>\n",
              "    </tr>\n",
              "    <tr>\n",
              "      <th>4</th>\n",
              "      <td>78</td>\n",
              "      <td>42</td>\n",
              "      <td>42</td>\n",
              "      <td>20.130175</td>\n",
              "      <td>81.604873</td>\n",
              "      <td>7.628473</td>\n",
              "      <td>262.717340</td>\n",
              "    </tr>\n",
              "  </tbody>\n",
              "</table>\n",
              "</div>\n",
              "    <div class=\"colab-df-buttons\">\n",
              "\n",
              "  <div class=\"colab-df-container\">\n",
              "    <button class=\"colab-df-convert\" onclick=\"convertToInteractive('df-cc5ca3a7-08e1-44e6-a468-1429d0a6efa7')\"\n",
              "            title=\"Convert this dataframe to an interactive table.\"\n",
              "            style=\"display:none;\">\n",
              "\n",
              "  <svg xmlns=\"http://www.w3.org/2000/svg\" height=\"24px\" viewBox=\"0 -960 960 960\">\n",
              "    <path d=\"M120-120v-720h720v720H120Zm60-500h600v-160H180v160Zm220 220h160v-160H400v160Zm0 220h160v-160H400v160ZM180-400h160v-160H180v160Zm440 0h160v-160H620v160ZM180-180h160v-160H180v160Zm440 0h160v-160H620v160Z\"/>\n",
              "  </svg>\n",
              "    </button>\n",
              "\n",
              "  <style>\n",
              "    .colab-df-container {\n",
              "      display:flex;\n",
              "      gap: 12px;\n",
              "    }\n",
              "\n",
              "    .colab-df-convert {\n",
              "      background-color: #E8F0FE;\n",
              "      border: none;\n",
              "      border-radius: 50%;\n",
              "      cursor: pointer;\n",
              "      display: none;\n",
              "      fill: #1967D2;\n",
              "      height: 32px;\n",
              "      padding: 0 0 0 0;\n",
              "      width: 32px;\n",
              "    }\n",
              "\n",
              "    .colab-df-convert:hover {\n",
              "      background-color: #E2EBFA;\n",
              "      box-shadow: 0px 1px 2px rgba(60, 64, 67, 0.3), 0px 1px 3px 1px rgba(60, 64, 67, 0.15);\n",
              "      fill: #174EA6;\n",
              "    }\n",
              "\n",
              "    .colab-df-buttons div {\n",
              "      margin-bottom: 4px;\n",
              "    }\n",
              "\n",
              "    [theme=dark] .colab-df-convert {\n",
              "      background-color: #3B4455;\n",
              "      fill: #D2E3FC;\n",
              "    }\n",
              "\n",
              "    [theme=dark] .colab-df-convert:hover {\n",
              "      background-color: #434B5C;\n",
              "      box-shadow: 0px 1px 3px 1px rgba(0, 0, 0, 0.15);\n",
              "      filter: drop-shadow(0px 1px 2px rgba(0, 0, 0, 0.3));\n",
              "      fill: #FFFFFF;\n",
              "    }\n",
              "  </style>\n",
              "\n",
              "    <script>\n",
              "      const buttonEl =\n",
              "        document.querySelector('#df-cc5ca3a7-08e1-44e6-a468-1429d0a6efa7 button.colab-df-convert');\n",
              "      buttonEl.style.display =\n",
              "        google.colab.kernel.accessAllowed ? 'block' : 'none';\n",
              "\n",
              "      async function convertToInteractive(key) {\n",
              "        const element = document.querySelector('#df-cc5ca3a7-08e1-44e6-a468-1429d0a6efa7');\n",
              "        const dataTable =\n",
              "          await google.colab.kernel.invokeFunction('convertToInteractive',\n",
              "                                                    [key], {});\n",
              "        if (!dataTable) return;\n",
              "\n",
              "        const docLinkHtml = 'Like what you see? Visit the ' +\n",
              "          '<a target=\"_blank\" href=https://colab.research.google.com/notebooks/data_table.ipynb>data table notebook</a>'\n",
              "          + ' to learn more about interactive tables.';\n",
              "        element.innerHTML = '';\n",
              "        dataTable['output_type'] = 'display_data';\n",
              "        await google.colab.output.renderOutput(dataTable, element);\n",
              "        const docLink = document.createElement('div');\n",
              "        docLink.innerHTML = docLinkHtml;\n",
              "        element.appendChild(docLink);\n",
              "      }\n",
              "    </script>\n",
              "  </div>\n",
              "\n",
              "\n",
              "<div id=\"df-5b6472e7-a339-4e80-9c3d-1949f59fde89\">\n",
              "  <button class=\"colab-df-quickchart\" onclick=\"quickchart('df-5b6472e7-a339-4e80-9c3d-1949f59fde89')\"\n",
              "            title=\"Suggest charts.\"\n",
              "            style=\"display:none;\">\n",
              "\n",
              "<svg xmlns=\"http://www.w3.org/2000/svg\" height=\"24px\"viewBox=\"0 0 24 24\"\n",
              "     width=\"24px\">\n",
              "    <g>\n",
              "        <path d=\"M19 3H5c-1.1 0-2 .9-2 2v14c0 1.1.9 2 2 2h14c1.1 0 2-.9 2-2V5c0-1.1-.9-2-2-2zM9 17H7v-7h2v7zm4 0h-2V7h2v10zm4 0h-2v-4h2v4z\"/>\n",
              "    </g>\n",
              "</svg>\n",
              "  </button>\n",
              "\n",
              "<style>\n",
              "  .colab-df-quickchart {\n",
              "    background-color: #E8F0FE;\n",
              "    border: none;\n",
              "    border-radius: 50%;\n",
              "    cursor: pointer;\n",
              "    display: none;\n",
              "    fill: #1967D2;\n",
              "    height: 32px;\n",
              "    padding: 0 0 0 0;\n",
              "    width: 32px;\n",
              "  }\n",
              "\n",
              "  .colab-df-quickchart:hover {\n",
              "    background-color: #E2EBFA;\n",
              "    box-shadow: 0px 1px 2px rgba(60, 64, 67, 0.3), 0px 1px 3px 1px rgba(60, 64, 67, 0.15);\n",
              "    fill: #174EA6;\n",
              "  }\n",
              "\n",
              "  [theme=dark] .colab-df-quickchart {\n",
              "    background-color: #3B4455;\n",
              "    fill: #D2E3FC;\n",
              "  }\n",
              "\n",
              "  [theme=dark] .colab-df-quickchart:hover {\n",
              "    background-color: #434B5C;\n",
              "    box-shadow: 0px 1px 3px 1px rgba(0, 0, 0, 0.15);\n",
              "    filter: drop-shadow(0px 1px 2px rgba(0, 0, 0, 0.3));\n",
              "    fill: #FFFFFF;\n",
              "  }\n",
              "</style>\n",
              "\n",
              "  <script>\n",
              "    async function quickchart(key) {\n",
              "      const charts = await google.colab.kernel.invokeFunction(\n",
              "          'suggestCharts', [key], {});\n",
              "    }\n",
              "    (() => {\n",
              "      let quickchartButtonEl =\n",
              "        document.querySelector('#df-5b6472e7-a339-4e80-9c3d-1949f59fde89 button');\n",
              "      quickchartButtonEl.style.display =\n",
              "        google.colab.kernel.accessAllowed ? 'block' : 'none';\n",
              "    })();\n",
              "  </script>\n",
              "</div>\n",
              "    </div>\n",
              "  </div>\n"
            ]
          },
          "metadata": {},
          "execution_count": 19
        }
      ],
      "source": [
        "X.head()"
      ]
    },
    {
      "cell_type": "code",
      "execution_count": 20,
      "id": "consolidated-tourist",
      "metadata": {
        "execution": {
          "iopub.execute_input": "2021-05-14T16:30:16.254437Z",
          "iopub.status.busy": "2021-05-14T16:30:16.253657Z",
          "iopub.status.idle": "2021-05-14T16:30:16.406092Z",
          "shell.execute_reply": "2021-05-14T16:30:16.405368Z"
        },
        "papermill": {
          "duration": 0.21062,
          "end_time": "2021-05-14T16:30:16.406239",
          "exception": false,
          "start_time": "2021-05-14T16:30:16.195619",
          "status": "completed"
        },
        "tags": [],
        "id": "consolidated-tourist"
      },
      "outputs": [],
      "source": [
        "from sklearn.preprocessing import LabelEncoder"
      ]
    },
    {
      "cell_type": "code",
      "execution_count": 21,
      "id": "agreed-improvement",
      "metadata": {
        "execution": {
          "iopub.execute_input": "2021-05-14T16:30:16.518050Z",
          "iopub.status.busy": "2021-05-14T16:30:16.517260Z",
          "iopub.status.idle": "2021-05-14T16:30:16.520609Z",
          "shell.execute_reply": "2021-05-14T16:30:16.520038Z"
        },
        "papermill": {
          "duration": 0.061141,
          "end_time": "2021-05-14T16:30:16.520748",
          "exception": false,
          "start_time": "2021-05-14T16:30:16.459607",
          "status": "completed"
        },
        "tags": [],
        "id": "agreed-improvement"
      },
      "outputs": [],
      "source": [
        "le = LabelEncoder()"
      ]
    },
    {
      "cell_type": "code",
      "execution_count": 22,
      "id": "appropriate-budget",
      "metadata": {
        "execution": {
          "iopub.execute_input": "2021-05-14T16:30:16.634280Z",
          "iopub.status.busy": "2021-05-14T16:30:16.633636Z",
          "iopub.status.idle": "2021-05-14T16:30:16.636404Z",
          "shell.execute_reply": "2021-05-14T16:30:16.636908Z"
        },
        "papermill": {
          "duration": 0.062818,
          "end_time": "2021-05-14T16:30:16.637074",
          "exception": false,
          "start_time": "2021-05-14T16:30:16.574256",
          "status": "completed"
        },
        "tags": [],
        "id": "appropriate-budget"
      },
      "outputs": [],
      "source": [
        "data['label'] = le.fit_transform(data['label'])"
      ]
    },
    {
      "cell_type": "code",
      "execution_count": 23,
      "id": "verified-short",
      "metadata": {
        "execution": {
          "iopub.execute_input": "2021-05-14T16:30:16.757816Z",
          "iopub.status.busy": "2021-05-14T16:30:16.756852Z",
          "iopub.status.idle": "2021-05-14T16:30:16.761550Z",
          "shell.execute_reply": "2021-05-14T16:30:16.760916Z"
        },
        "papermill": {
          "duration": 0.07143,
          "end_time": "2021-05-14T16:30:16.761789",
          "exception": false,
          "start_time": "2021-05-14T16:30:16.690359",
          "status": "completed"
        },
        "tags": [],
        "colab": {
          "base_uri": "https://localhost:8080/",
          "height": 207
        },
        "id": "verified-short",
        "outputId": "6801fd15-aaa2-4578-a51c-0614498c1e26"
      },
      "outputs": [
        {
          "output_type": "execute_result",
          "data": {
            "text/plain": [
              "    N   P   K  temperature   humidity        ph    rainfall  label\n",
              "0  90  42  43    20.879744  82.002744  6.502985  202.935536     20\n",
              "1  85  58  41    21.770462  80.319644  7.038096  226.655537     20\n",
              "2  60  55  44    23.004459  82.320763  7.840207  263.964248     20\n",
              "3  74  35  40    26.491096  80.158363  6.980401  242.864034     20\n",
              "4  78  42  42    20.130175  81.604873  7.628473  262.717340     20"
            ],
            "text/html": [
              "\n",
              "  <div id=\"df-b5d090bd-86cb-428e-9152-03fac8e416bb\" class=\"colab-df-container\">\n",
              "    <div>\n",
              "<style scoped>\n",
              "    .dataframe tbody tr th:only-of-type {\n",
              "        vertical-align: middle;\n",
              "    }\n",
              "\n",
              "    .dataframe tbody tr th {\n",
              "        vertical-align: top;\n",
              "    }\n",
              "\n",
              "    .dataframe thead th {\n",
              "        text-align: right;\n",
              "    }\n",
              "</style>\n",
              "<table border=\"1\" class=\"dataframe\">\n",
              "  <thead>\n",
              "    <tr style=\"text-align: right;\">\n",
              "      <th></th>\n",
              "      <th>N</th>\n",
              "      <th>P</th>\n",
              "      <th>K</th>\n",
              "      <th>temperature</th>\n",
              "      <th>humidity</th>\n",
              "      <th>ph</th>\n",
              "      <th>rainfall</th>\n",
              "      <th>label</th>\n",
              "    </tr>\n",
              "  </thead>\n",
              "  <tbody>\n",
              "    <tr>\n",
              "      <th>0</th>\n",
              "      <td>90</td>\n",
              "      <td>42</td>\n",
              "      <td>43</td>\n",
              "      <td>20.879744</td>\n",
              "      <td>82.002744</td>\n",
              "      <td>6.502985</td>\n",
              "      <td>202.935536</td>\n",
              "      <td>20</td>\n",
              "    </tr>\n",
              "    <tr>\n",
              "      <th>1</th>\n",
              "      <td>85</td>\n",
              "      <td>58</td>\n",
              "      <td>41</td>\n",
              "      <td>21.770462</td>\n",
              "      <td>80.319644</td>\n",
              "      <td>7.038096</td>\n",
              "      <td>226.655537</td>\n",
              "      <td>20</td>\n",
              "    </tr>\n",
              "    <tr>\n",
              "      <th>2</th>\n",
              "      <td>60</td>\n",
              "      <td>55</td>\n",
              "      <td>44</td>\n",
              "      <td>23.004459</td>\n",
              "      <td>82.320763</td>\n",
              "      <td>7.840207</td>\n",
              "      <td>263.964248</td>\n",
              "      <td>20</td>\n",
              "    </tr>\n",
              "    <tr>\n",
              "      <th>3</th>\n",
              "      <td>74</td>\n",
              "      <td>35</td>\n",
              "      <td>40</td>\n",
              "      <td>26.491096</td>\n",
              "      <td>80.158363</td>\n",
              "      <td>6.980401</td>\n",
              "      <td>242.864034</td>\n",
              "      <td>20</td>\n",
              "    </tr>\n",
              "    <tr>\n",
              "      <th>4</th>\n",
              "      <td>78</td>\n",
              "      <td>42</td>\n",
              "      <td>42</td>\n",
              "      <td>20.130175</td>\n",
              "      <td>81.604873</td>\n",
              "      <td>7.628473</td>\n",
              "      <td>262.717340</td>\n",
              "      <td>20</td>\n",
              "    </tr>\n",
              "  </tbody>\n",
              "</table>\n",
              "</div>\n",
              "    <div class=\"colab-df-buttons\">\n",
              "\n",
              "  <div class=\"colab-df-container\">\n",
              "    <button class=\"colab-df-convert\" onclick=\"convertToInteractive('df-b5d090bd-86cb-428e-9152-03fac8e416bb')\"\n",
              "            title=\"Convert this dataframe to an interactive table.\"\n",
              "            style=\"display:none;\">\n",
              "\n",
              "  <svg xmlns=\"http://www.w3.org/2000/svg\" height=\"24px\" viewBox=\"0 -960 960 960\">\n",
              "    <path d=\"M120-120v-720h720v720H120Zm60-500h600v-160H180v160Zm220 220h160v-160H400v160Zm0 220h160v-160H400v160ZM180-400h160v-160H180v160Zm440 0h160v-160H620v160ZM180-180h160v-160H180v160Zm440 0h160v-160H620v160Z\"/>\n",
              "  </svg>\n",
              "    </button>\n",
              "\n",
              "  <style>\n",
              "    .colab-df-container {\n",
              "      display:flex;\n",
              "      gap: 12px;\n",
              "    }\n",
              "\n",
              "    .colab-df-convert {\n",
              "      background-color: #E8F0FE;\n",
              "      border: none;\n",
              "      border-radius: 50%;\n",
              "      cursor: pointer;\n",
              "      display: none;\n",
              "      fill: #1967D2;\n",
              "      height: 32px;\n",
              "      padding: 0 0 0 0;\n",
              "      width: 32px;\n",
              "    }\n",
              "\n",
              "    .colab-df-convert:hover {\n",
              "      background-color: #E2EBFA;\n",
              "      box-shadow: 0px 1px 2px rgba(60, 64, 67, 0.3), 0px 1px 3px 1px rgba(60, 64, 67, 0.15);\n",
              "      fill: #174EA6;\n",
              "    }\n",
              "\n",
              "    .colab-df-buttons div {\n",
              "      margin-bottom: 4px;\n",
              "    }\n",
              "\n",
              "    [theme=dark] .colab-df-convert {\n",
              "      background-color: #3B4455;\n",
              "      fill: #D2E3FC;\n",
              "    }\n",
              "\n",
              "    [theme=dark] .colab-df-convert:hover {\n",
              "      background-color: #434B5C;\n",
              "      box-shadow: 0px 1px 3px 1px rgba(0, 0, 0, 0.15);\n",
              "      filter: drop-shadow(0px 1px 2px rgba(0, 0, 0, 0.3));\n",
              "      fill: #FFFFFF;\n",
              "    }\n",
              "  </style>\n",
              "\n",
              "    <script>\n",
              "      const buttonEl =\n",
              "        document.querySelector('#df-b5d090bd-86cb-428e-9152-03fac8e416bb button.colab-df-convert');\n",
              "      buttonEl.style.display =\n",
              "        google.colab.kernel.accessAllowed ? 'block' : 'none';\n",
              "\n",
              "      async function convertToInteractive(key) {\n",
              "        const element = document.querySelector('#df-b5d090bd-86cb-428e-9152-03fac8e416bb');\n",
              "        const dataTable =\n",
              "          await google.colab.kernel.invokeFunction('convertToInteractive',\n",
              "                                                    [key], {});\n",
              "        if (!dataTable) return;\n",
              "\n",
              "        const docLinkHtml = 'Like what you see? Visit the ' +\n",
              "          '<a target=\"_blank\" href=https://colab.research.google.com/notebooks/data_table.ipynb>data table notebook</a>'\n",
              "          + ' to learn more about interactive tables.';\n",
              "        element.innerHTML = '';\n",
              "        dataTable['output_type'] = 'display_data';\n",
              "        await google.colab.output.renderOutput(dataTable, element);\n",
              "        const docLink = document.createElement('div');\n",
              "        docLink.innerHTML = docLinkHtml;\n",
              "        element.appendChild(docLink);\n",
              "      }\n",
              "    </script>\n",
              "  </div>\n",
              "\n",
              "\n",
              "<div id=\"df-d344dd69-bb13-48d8-ab23-0fcb64dd9ce4\">\n",
              "  <button class=\"colab-df-quickchart\" onclick=\"quickchart('df-d344dd69-bb13-48d8-ab23-0fcb64dd9ce4')\"\n",
              "            title=\"Suggest charts.\"\n",
              "            style=\"display:none;\">\n",
              "\n",
              "<svg xmlns=\"http://www.w3.org/2000/svg\" height=\"24px\"viewBox=\"0 0 24 24\"\n",
              "     width=\"24px\">\n",
              "    <g>\n",
              "        <path d=\"M19 3H5c-1.1 0-2 .9-2 2v14c0 1.1.9 2 2 2h14c1.1 0 2-.9 2-2V5c0-1.1-.9-2-2-2zM9 17H7v-7h2v7zm4 0h-2V7h2v10zm4 0h-2v-4h2v4z\"/>\n",
              "    </g>\n",
              "</svg>\n",
              "  </button>\n",
              "\n",
              "<style>\n",
              "  .colab-df-quickchart {\n",
              "    background-color: #E8F0FE;\n",
              "    border: none;\n",
              "    border-radius: 50%;\n",
              "    cursor: pointer;\n",
              "    display: none;\n",
              "    fill: #1967D2;\n",
              "    height: 32px;\n",
              "    padding: 0 0 0 0;\n",
              "    width: 32px;\n",
              "  }\n",
              "\n",
              "  .colab-df-quickchart:hover {\n",
              "    background-color: #E2EBFA;\n",
              "    box-shadow: 0px 1px 2px rgba(60, 64, 67, 0.3), 0px 1px 3px 1px rgba(60, 64, 67, 0.15);\n",
              "    fill: #174EA6;\n",
              "  }\n",
              "\n",
              "  [theme=dark] .colab-df-quickchart {\n",
              "    background-color: #3B4455;\n",
              "    fill: #D2E3FC;\n",
              "  }\n",
              "\n",
              "  [theme=dark] .colab-df-quickchart:hover {\n",
              "    background-color: #434B5C;\n",
              "    box-shadow: 0px 1px 3px 1px rgba(0, 0, 0, 0.15);\n",
              "    filter: drop-shadow(0px 1px 2px rgba(0, 0, 0, 0.3));\n",
              "    fill: #FFFFFF;\n",
              "  }\n",
              "</style>\n",
              "\n",
              "  <script>\n",
              "    async function quickchart(key) {\n",
              "      const charts = await google.colab.kernel.invokeFunction(\n",
              "          'suggestCharts', [key], {});\n",
              "    }\n",
              "    (() => {\n",
              "      let quickchartButtonEl =\n",
              "        document.querySelector('#df-d344dd69-bb13-48d8-ab23-0fcb64dd9ce4 button');\n",
              "      quickchartButtonEl.style.display =\n",
              "        google.colab.kernel.accessAllowed ? 'block' : 'none';\n",
              "    })();\n",
              "  </script>\n",
              "</div>\n",
              "    </div>\n",
              "  </div>\n"
            ]
          },
          "metadata": {},
          "execution_count": 23
        }
      ],
      "source": [
        "data.head()"
      ]
    },
    {
      "cell_type": "code",
      "execution_count": 24,
      "id": "utility-chuck",
      "metadata": {
        "execution": {
          "iopub.execute_input": "2021-05-14T16:30:16.875046Z",
          "iopub.status.busy": "2021-05-14T16:30:16.874264Z",
          "iopub.status.idle": "2021-05-14T16:30:16.877852Z",
          "shell.execute_reply": "2021-05-14T16:30:16.878323Z"
        },
        "papermill": {
          "duration": 0.06218,
          "end_time": "2021-05-14T16:30:16.878547",
          "exception": false,
          "start_time": "2021-05-14T16:30:16.816367",
          "status": "completed"
        },
        "tags": [],
        "id": "utility-chuck"
      },
      "outputs": [],
      "source": [
        "y = data['label']"
      ]
    },
    {
      "cell_type": "code",
      "execution_count": 25,
      "id": "piano-chuck",
      "metadata": {
        "execution": {
          "iopub.execute_input": "2021-05-14T16:30:16.990329Z",
          "iopub.status.busy": "2021-05-14T16:30:16.989663Z",
          "iopub.status.idle": "2021-05-14T16:30:16.995932Z",
          "shell.execute_reply": "2021-05-14T16:30:16.995216Z"
        },
        "papermill": {
          "duration": 0.06329,
          "end_time": "2021-05-14T16:30:16.996068",
          "exception": false,
          "start_time": "2021-05-14T16:30:16.932778",
          "status": "completed"
        },
        "tags": [],
        "colab": {
          "base_uri": "https://localhost:8080/"
        },
        "id": "piano-chuck",
        "outputId": "1510b7ec-1f31-409c-fba9-4893202b1d22"
      },
      "outputs": [
        {
          "output_type": "execute_result",
          "data": {
            "text/plain": [
              "0    20\n",
              "1    20\n",
              "2    20\n",
              "3    20\n",
              "4    20\n",
              "Name: label, dtype: int64"
            ]
          },
          "metadata": {},
          "execution_count": 25
        }
      ],
      "source": [
        "y.head()"
      ]
    },
    {
      "cell_type": "markdown",
      "id": "continued-librarian",
      "metadata": {
        "papermill": {
          "duration": 0.054066,
          "end_time": "2021-05-14T16:30:17.104586",
          "exception": false,
          "start_time": "2021-05-14T16:30:17.050520",
          "status": "completed"
        },
        "tags": [],
        "id": "continued-librarian"
      },
      "source": [
        "# TRAIN TEST SPLIT"
      ]
    },
    {
      "cell_type": "code",
      "execution_count": 26,
      "id": "surface-hindu",
      "metadata": {
        "execution": {
          "iopub.execute_input": "2021-05-14T16:30:17.217329Z",
          "iopub.status.busy": "2021-05-14T16:30:17.216588Z",
          "iopub.status.idle": "2021-05-14T16:30:17.219902Z",
          "shell.execute_reply": "2021-05-14T16:30:17.220426Z"
        },
        "papermill": {
          "duration": 0.060901,
          "end_time": "2021-05-14T16:30:17.220610",
          "exception": false,
          "start_time": "2021-05-14T16:30:17.159709",
          "status": "completed"
        },
        "tags": [],
        "id": "surface-hindu"
      },
      "outputs": [],
      "source": [
        "model = []\n",
        "accuracy = []"
      ]
    },
    {
      "cell_type": "code",
      "execution_count": 27,
      "id": "heard-religious",
      "metadata": {
        "execution": {
          "iopub.execute_input": "2021-05-14T16:30:17.333720Z",
          "iopub.status.busy": "2021-05-14T16:30:17.333054Z",
          "iopub.status.idle": "2021-05-14T16:30:17.406101Z",
          "shell.execute_reply": "2021-05-14T16:30:17.406650Z"
        },
        "papermill": {
          "duration": 0.131399,
          "end_time": "2021-05-14T16:30:17.406832",
          "exception": false,
          "start_time": "2021-05-14T16:30:17.275433",
          "status": "completed"
        },
        "tags": [],
        "id": "heard-religious"
      },
      "outputs": [],
      "source": [
        "from sklearn.model_selection import train_test_split"
      ]
    },
    {
      "cell_type": "code",
      "execution_count": 28,
      "id": "colonial-arena",
      "metadata": {
        "execution": {
          "iopub.execute_input": "2021-05-14T16:30:17.526032Z",
          "iopub.status.busy": "2021-05-14T16:30:17.523286Z",
          "iopub.status.idle": "2021-05-14T16:30:17.529990Z",
          "shell.execute_reply": "2021-05-14T16:30:17.529343Z"
        },
        "papermill": {
          "duration": 0.067696,
          "end_time": "2021-05-14T16:30:17.530127",
          "exception": false,
          "start_time": "2021-05-14T16:30:17.462431",
          "status": "completed"
        },
        "tags": [],
        "id": "colonial-arena"
      },
      "outputs": [],
      "source": [
        "X_train,X_test,y_train,y_test = train_test_split(X,y,test_size = 0.2, random_state=42)"
      ]
    },
    {
      "cell_type": "markdown",
      "id": "promotional-schedule",
      "metadata": {
        "papermill": {
          "duration": 0.055509,
          "end_time": "2021-05-14T16:30:17.640584",
          "exception": false,
          "start_time": "2021-05-14T16:30:17.585075",
          "status": "completed"
        },
        "tags": [],
        "id": "promotional-schedule"
      },
      "source": [
        "# DECISION TREE"
      ]
    },
    {
      "cell_type": "code",
      "execution_count": 29,
      "id": "separated-judges",
      "metadata": {
        "execution": {
          "iopub.execute_input": "2021-05-14T16:30:17.755542Z",
          "iopub.status.busy": "2021-05-14T16:30:17.754871Z",
          "iopub.status.idle": "2021-05-14T16:30:17.981083Z",
          "shell.execute_reply": "2021-05-14T16:30:17.979914Z"
        },
        "papermill": {
          "duration": 0.285443,
          "end_time": "2021-05-14T16:30:17.981243",
          "exception": false,
          "start_time": "2021-05-14T16:30:17.695800",
          "status": "completed"
        },
        "tags": [],
        "id": "separated-judges"
      },
      "outputs": [],
      "source": [
        "from sklearn.tree import DecisionTreeClassifier"
      ]
    },
    {
      "cell_type": "code",
      "execution_count": 30,
      "id": "exotic-photography",
      "metadata": {
        "execution": {
          "iopub.execute_input": "2021-05-14T16:30:18.099301Z",
          "iopub.status.busy": "2021-05-14T16:30:18.098671Z",
          "iopub.status.idle": "2021-05-14T16:30:18.101140Z",
          "shell.execute_reply": "2021-05-14T16:30:18.101652Z"
        },
        "papermill": {
          "duration": 0.064318,
          "end_time": "2021-05-14T16:30:18.101831",
          "exception": false,
          "start_time": "2021-05-14T16:30:18.037513",
          "status": "completed"
        },
        "tags": [],
        "id": "exotic-photography"
      },
      "outputs": [],
      "source": [
        "DT = DecisionTreeClassifier()"
      ]
    },
    {
      "cell_type": "code",
      "execution_count": 31,
      "id": "miniature-exclusive",
      "metadata": {
        "execution": {
          "iopub.execute_input": "2021-05-14T16:30:18.220414Z",
          "iopub.status.busy": "2021-05-14T16:30:18.219292Z",
          "iopub.status.idle": "2021-05-14T16:30:18.237476Z",
          "shell.execute_reply": "2021-05-14T16:30:18.236900Z"
        },
        "papermill": {
          "duration": 0.080113,
          "end_time": "2021-05-14T16:30:18.237627",
          "exception": false,
          "start_time": "2021-05-14T16:30:18.157514",
          "status": "completed"
        },
        "tags": [],
        "colab": {
          "base_uri": "https://localhost:8080/",
          "height": 76
        },
        "id": "miniature-exclusive",
        "outputId": "860de35f-67b6-4c10-b804-9ef03b5e569d"
      },
      "outputs": [
        {
          "output_type": "execute_result",
          "data": {
            "text/plain": [
              "DecisionTreeClassifier()"
            ],
            "text/html": [
              "<style>#sk-container-id-1 {color: black;background-color: white;}#sk-container-id-1 pre{padding: 0;}#sk-container-id-1 div.sk-toggleable {background-color: white;}#sk-container-id-1 label.sk-toggleable__label {cursor: pointer;display: block;width: 100%;margin-bottom: 0;padding: 0.3em;box-sizing: border-box;text-align: center;}#sk-container-id-1 label.sk-toggleable__label-arrow:before {content: \"▸\";float: left;margin-right: 0.25em;color: #696969;}#sk-container-id-1 label.sk-toggleable__label-arrow:hover:before {color: black;}#sk-container-id-1 div.sk-estimator:hover label.sk-toggleable__label-arrow:before {color: black;}#sk-container-id-1 div.sk-toggleable__content {max-height: 0;max-width: 0;overflow: hidden;text-align: left;background-color: #f0f8ff;}#sk-container-id-1 div.sk-toggleable__content pre {margin: 0.2em;color: black;border-radius: 0.25em;background-color: #f0f8ff;}#sk-container-id-1 input.sk-toggleable__control:checked~div.sk-toggleable__content {max-height: 200px;max-width: 100%;overflow: auto;}#sk-container-id-1 input.sk-toggleable__control:checked~label.sk-toggleable__label-arrow:before {content: \"▾\";}#sk-container-id-1 div.sk-estimator input.sk-toggleable__control:checked~label.sk-toggleable__label {background-color: #d4ebff;}#sk-container-id-1 div.sk-label input.sk-toggleable__control:checked~label.sk-toggleable__label {background-color: #d4ebff;}#sk-container-id-1 input.sk-hidden--visually {border: 0;clip: rect(1px 1px 1px 1px);clip: rect(1px, 1px, 1px, 1px);height: 1px;margin: -1px;overflow: hidden;padding: 0;position: absolute;width: 1px;}#sk-container-id-1 div.sk-estimator {font-family: monospace;background-color: #f0f8ff;border: 1px dotted black;border-radius: 0.25em;box-sizing: border-box;margin-bottom: 0.5em;}#sk-container-id-1 div.sk-estimator:hover {background-color: #d4ebff;}#sk-container-id-1 div.sk-parallel-item::after {content: \"\";width: 100%;border-bottom: 1px solid gray;flex-grow: 1;}#sk-container-id-1 div.sk-label:hover label.sk-toggleable__label {background-color: #d4ebff;}#sk-container-id-1 div.sk-serial::before {content: \"\";position: absolute;border-left: 1px solid gray;box-sizing: border-box;top: 0;bottom: 0;left: 50%;z-index: 0;}#sk-container-id-1 div.sk-serial {display: flex;flex-direction: column;align-items: center;background-color: white;padding-right: 0.2em;padding-left: 0.2em;position: relative;}#sk-container-id-1 div.sk-item {position: relative;z-index: 1;}#sk-container-id-1 div.sk-parallel {display: flex;align-items: stretch;justify-content: center;background-color: white;position: relative;}#sk-container-id-1 div.sk-item::before, #sk-container-id-1 div.sk-parallel-item::before {content: \"\";position: absolute;border-left: 1px solid gray;box-sizing: border-box;top: 0;bottom: 0;left: 50%;z-index: -1;}#sk-container-id-1 div.sk-parallel-item {display: flex;flex-direction: column;z-index: 1;position: relative;background-color: white;}#sk-container-id-1 div.sk-parallel-item:first-child::after {align-self: flex-end;width: 50%;}#sk-container-id-1 div.sk-parallel-item:last-child::after {align-self: flex-start;width: 50%;}#sk-container-id-1 div.sk-parallel-item:only-child::after {width: 0;}#sk-container-id-1 div.sk-dashed-wrapped {border: 1px dashed gray;margin: 0 0.4em 0.5em 0.4em;box-sizing: border-box;padding-bottom: 0.4em;background-color: white;}#sk-container-id-1 div.sk-label label {font-family: monospace;font-weight: bold;display: inline-block;line-height: 1.2em;}#sk-container-id-1 div.sk-label-container {text-align: center;}#sk-container-id-1 div.sk-container {/* jupyter's `normalize.less` sets `[hidden] { display: none; }` but bootstrap.min.css set `[hidden] { display: none !important; }` so we also need the `!important` here to be able to override the default hidden behavior on the sphinx rendered scikit-learn.org. See: https://github.com/scikit-learn/scikit-learn/issues/21755 */display: inline-block !important;position: relative;}#sk-container-id-1 div.sk-text-repr-fallback {display: none;}</style><div id=\"sk-container-id-1\" class=\"sk-top-container\"><div class=\"sk-text-repr-fallback\"><pre>DecisionTreeClassifier()</pre><b>In a Jupyter environment, please rerun this cell to show the HTML representation or trust the notebook. <br />On GitHub, the HTML representation is unable to render, please try loading this page with nbviewer.org.</b></div><div class=\"sk-container\" hidden><div class=\"sk-item\"><div class=\"sk-estimator sk-toggleable\"><input class=\"sk-toggleable__control sk-hidden--visually\" id=\"sk-estimator-id-1\" type=\"checkbox\" checked><label for=\"sk-estimator-id-1\" class=\"sk-toggleable__label sk-toggleable__label-arrow\">DecisionTreeClassifier</label><div class=\"sk-toggleable__content\"><pre>DecisionTreeClassifier()</pre></div></div></div></div></div>"
            ]
          },
          "metadata": {},
          "execution_count": 31
        }
      ],
      "source": [
        "DT.fit(X_train , y_train)"
      ]
    },
    {
      "cell_type": "code",
      "execution_count": 32,
      "id": "hawaiian-dress",
      "metadata": {
        "execution": {
          "iopub.execute_input": "2021-05-14T16:30:18.356132Z",
          "iopub.status.busy": "2021-05-14T16:30:18.355475Z",
          "iopub.status.idle": "2021-05-14T16:30:18.359341Z",
          "shell.execute_reply": "2021-05-14T16:30:18.358647Z"
        },
        "papermill": {
          "duration": 0.065924,
          "end_time": "2021-05-14T16:30:18.359497",
          "exception": false,
          "start_time": "2021-05-14T16:30:18.293573",
          "status": "completed"
        },
        "tags": [],
        "id": "hawaiian-dress"
      },
      "outputs": [],
      "source": [
        "predict = DT.predict(X_test)"
      ]
    },
    {
      "cell_type": "code",
      "execution_count": 33,
      "id": "changed-douglas",
      "metadata": {
        "execution": {
          "iopub.execute_input": "2021-05-14T16:30:18.478635Z",
          "iopub.status.busy": "2021-05-14T16:30:18.477936Z",
          "iopub.status.idle": "2021-05-14T16:30:18.482141Z",
          "shell.execute_reply": "2021-05-14T16:30:18.482619Z"
        },
        "papermill": {
          "duration": 0.067128,
          "end_time": "2021-05-14T16:30:18.482798",
          "exception": false,
          "start_time": "2021-05-14T16:30:18.415670",
          "status": "completed"
        },
        "tags": [],
        "id": "changed-douglas"
      },
      "outputs": [],
      "source": [
        "DT_accuracy = DT.score(X_test,y_test)"
      ]
    },
    {
      "cell_type": "code",
      "execution_count": 34,
      "id": "dietary-virginia",
      "metadata": {
        "execution": {
          "iopub.execute_input": "2021-05-14T16:30:18.604672Z",
          "iopub.status.busy": "2021-05-14T16:30:18.603985Z",
          "iopub.status.idle": "2021-05-14T16:30:18.607921Z",
          "shell.execute_reply": "2021-05-14T16:30:18.608378Z"
        },
        "papermill": {
          "duration": 0.064679,
          "end_time": "2021-05-14T16:30:18.608570",
          "exception": false,
          "start_time": "2021-05-14T16:30:18.543891",
          "status": "completed"
        },
        "tags": [],
        "colab": {
          "base_uri": "https://localhost:8080/"
        },
        "id": "dietary-virginia",
        "outputId": "7d3a57d9-c5fd-453e-ab35-c0d925ce788c"
      },
      "outputs": [
        {
          "output_type": "execute_result",
          "data": {
            "text/plain": [
              "0.9886363636363636"
            ]
          },
          "metadata": {},
          "execution_count": 34
        }
      ],
      "source": [
        "DT_accuracy"
      ]
    },
    {
      "cell_type": "code",
      "execution_count": 35,
      "id": "composed-princess",
      "metadata": {
        "execution": {
          "iopub.execute_input": "2021-05-14T16:30:18.725959Z",
          "iopub.status.busy": "2021-05-14T16:30:18.725310Z",
          "iopub.status.idle": "2021-05-14T16:30:18.728660Z",
          "shell.execute_reply": "2021-05-14T16:30:18.728105Z"
        },
        "papermill": {
          "duration": 0.063869,
          "end_time": "2021-05-14T16:30:18.728799",
          "exception": false,
          "start_time": "2021-05-14T16:30:18.664930",
          "status": "completed"
        },
        "tags": [],
        "id": "composed-princess"
      },
      "outputs": [],
      "source": [
        "accuracy.append(DT_accuracy)"
      ]
    },
    {
      "cell_type": "code",
      "execution_count": 36,
      "id": "tender-poverty",
      "metadata": {
        "execution": {
          "iopub.execute_input": "2021-05-14T16:30:18.846658Z",
          "iopub.status.busy": "2021-05-14T16:30:18.845991Z",
          "iopub.status.idle": "2021-05-14T16:30:18.849687Z",
          "shell.execute_reply": "2021-05-14T16:30:18.849186Z"
        },
        "papermill": {
          "duration": 0.064551,
          "end_time": "2021-05-14T16:30:18.849823",
          "exception": false,
          "start_time": "2021-05-14T16:30:18.785272",
          "status": "completed"
        },
        "tags": [],
        "id": "tender-poverty"
      },
      "outputs": [],
      "source": [
        "model.append('Decision Tree')"
      ]
    },
    {
      "cell_type": "markdown",
      "id": "recreational-leonard",
      "metadata": {
        "papermill": {
          "duration": 0.057265,
          "end_time": "2021-05-14T16:30:18.963576",
          "exception": false,
          "start_time": "2021-05-14T16:30:18.906311",
          "status": "completed"
        },
        "tags": [],
        "id": "recreational-leonard"
      },
      "source": [
        "# LOGISTIC REGRESSION"
      ]
    },
    {
      "cell_type": "code",
      "execution_count": 37,
      "id": "severe-correction",
      "metadata": {
        "execution": {
          "iopub.execute_input": "2021-05-14T16:30:19.081124Z",
          "iopub.status.busy": "2021-05-14T16:30:19.080526Z",
          "iopub.status.idle": "2021-05-14T16:30:19.083222Z",
          "shell.execute_reply": "2021-05-14T16:30:19.082619Z"
        },
        "papermill": {
          "duration": 0.063367,
          "end_time": "2021-05-14T16:30:19.083350",
          "exception": false,
          "start_time": "2021-05-14T16:30:19.019983",
          "status": "completed"
        },
        "tags": [],
        "id": "severe-correction"
      },
      "outputs": [],
      "source": [
        "from sklearn.linear_model import LogisticRegression"
      ]
    },
    {
      "cell_type": "code",
      "execution_count": 38,
      "id": "sacred-bidding",
      "metadata": {
        "execution": {
          "iopub.execute_input": "2021-05-14T16:30:19.202854Z",
          "iopub.status.busy": "2021-05-14T16:30:19.202188Z",
          "iopub.status.idle": "2021-05-14T16:30:19.204538Z",
          "shell.execute_reply": "2021-05-14T16:30:19.203922Z"
        },
        "papermill": {
          "duration": 0.063704,
          "end_time": "2021-05-14T16:30:19.204673",
          "exception": false,
          "start_time": "2021-05-14T16:30:19.140969",
          "status": "completed"
        },
        "tags": [],
        "id": "sacred-bidding"
      },
      "outputs": [],
      "source": [
        "\n",
        "LG = LogisticRegression()"
      ]
    },
    {
      "cell_type": "code",
      "execution_count": 39,
      "id": "interpreted-narrow",
      "metadata": {
        "execution": {
          "iopub.execute_input": "2021-05-14T16:30:19.327786Z",
          "iopub.status.busy": "2021-05-14T16:30:19.327120Z",
          "iopub.status.idle": "2021-05-14T16:30:19.843910Z",
          "shell.execute_reply": "2021-05-14T16:30:19.844782Z"
        },
        "papermill": {
          "duration": 0.58204,
          "end_time": "2021-05-14T16:30:19.845043",
          "exception": false,
          "start_time": "2021-05-14T16:30:19.263003",
          "status": "completed"
        },
        "tags": [],
        "colab": {
          "base_uri": "https://localhost:8080/",
          "height": 215
        },
        "id": "interpreted-narrow",
        "outputId": "5392fd86-5ffb-4896-be0b-dd1d2a0d4959"
      },
      "outputs": [
        {
          "output_type": "stream",
          "name": "stderr",
          "text": [
            "/usr/local/lib/python3.10/dist-packages/sklearn/linear_model/_logistic.py:458: ConvergenceWarning: lbfgs failed to converge (status=1):\n",
            "STOP: TOTAL NO. of ITERATIONS REACHED LIMIT.\n",
            "\n",
            "Increase the number of iterations (max_iter) or scale the data as shown in:\n",
            "    https://scikit-learn.org/stable/modules/preprocessing.html\n",
            "Please also refer to the documentation for alternative solver options:\n",
            "    https://scikit-learn.org/stable/modules/linear_model.html#logistic-regression\n",
            "  n_iter_i = _check_optimize_result(\n"
          ]
        },
        {
          "output_type": "execute_result",
          "data": {
            "text/plain": [
              "LogisticRegression()"
            ],
            "text/html": [
              "<style>#sk-container-id-2 {color: black;background-color: white;}#sk-container-id-2 pre{padding: 0;}#sk-container-id-2 div.sk-toggleable {background-color: white;}#sk-container-id-2 label.sk-toggleable__label {cursor: pointer;display: block;width: 100%;margin-bottom: 0;padding: 0.3em;box-sizing: border-box;text-align: center;}#sk-container-id-2 label.sk-toggleable__label-arrow:before {content: \"▸\";float: left;margin-right: 0.25em;color: #696969;}#sk-container-id-2 label.sk-toggleable__label-arrow:hover:before {color: black;}#sk-container-id-2 div.sk-estimator:hover label.sk-toggleable__label-arrow:before {color: black;}#sk-container-id-2 div.sk-toggleable__content {max-height: 0;max-width: 0;overflow: hidden;text-align: left;background-color: #f0f8ff;}#sk-container-id-2 div.sk-toggleable__content pre {margin: 0.2em;color: black;border-radius: 0.25em;background-color: #f0f8ff;}#sk-container-id-2 input.sk-toggleable__control:checked~div.sk-toggleable__content {max-height: 200px;max-width: 100%;overflow: auto;}#sk-container-id-2 input.sk-toggleable__control:checked~label.sk-toggleable__label-arrow:before {content: \"▾\";}#sk-container-id-2 div.sk-estimator input.sk-toggleable__control:checked~label.sk-toggleable__label {background-color: #d4ebff;}#sk-container-id-2 div.sk-label input.sk-toggleable__control:checked~label.sk-toggleable__label {background-color: #d4ebff;}#sk-container-id-2 input.sk-hidden--visually {border: 0;clip: rect(1px 1px 1px 1px);clip: rect(1px, 1px, 1px, 1px);height: 1px;margin: -1px;overflow: hidden;padding: 0;position: absolute;width: 1px;}#sk-container-id-2 div.sk-estimator {font-family: monospace;background-color: #f0f8ff;border: 1px dotted black;border-radius: 0.25em;box-sizing: border-box;margin-bottom: 0.5em;}#sk-container-id-2 div.sk-estimator:hover {background-color: #d4ebff;}#sk-container-id-2 div.sk-parallel-item::after {content: \"\";width: 100%;border-bottom: 1px solid gray;flex-grow: 1;}#sk-container-id-2 div.sk-label:hover label.sk-toggleable__label {background-color: #d4ebff;}#sk-container-id-2 div.sk-serial::before {content: \"\";position: absolute;border-left: 1px solid gray;box-sizing: border-box;top: 0;bottom: 0;left: 50%;z-index: 0;}#sk-container-id-2 div.sk-serial {display: flex;flex-direction: column;align-items: center;background-color: white;padding-right: 0.2em;padding-left: 0.2em;position: relative;}#sk-container-id-2 div.sk-item {position: relative;z-index: 1;}#sk-container-id-2 div.sk-parallel {display: flex;align-items: stretch;justify-content: center;background-color: white;position: relative;}#sk-container-id-2 div.sk-item::before, #sk-container-id-2 div.sk-parallel-item::before {content: \"\";position: absolute;border-left: 1px solid gray;box-sizing: border-box;top: 0;bottom: 0;left: 50%;z-index: -1;}#sk-container-id-2 div.sk-parallel-item {display: flex;flex-direction: column;z-index: 1;position: relative;background-color: white;}#sk-container-id-2 div.sk-parallel-item:first-child::after {align-self: flex-end;width: 50%;}#sk-container-id-2 div.sk-parallel-item:last-child::after {align-self: flex-start;width: 50%;}#sk-container-id-2 div.sk-parallel-item:only-child::after {width: 0;}#sk-container-id-2 div.sk-dashed-wrapped {border: 1px dashed gray;margin: 0 0.4em 0.5em 0.4em;box-sizing: border-box;padding-bottom: 0.4em;background-color: white;}#sk-container-id-2 div.sk-label label {font-family: monospace;font-weight: bold;display: inline-block;line-height: 1.2em;}#sk-container-id-2 div.sk-label-container {text-align: center;}#sk-container-id-2 div.sk-container {/* jupyter's `normalize.less` sets `[hidden] { display: none; }` but bootstrap.min.css set `[hidden] { display: none !important; }` so we also need the `!important` here to be able to override the default hidden behavior on the sphinx rendered scikit-learn.org. See: https://github.com/scikit-learn/scikit-learn/issues/21755 */display: inline-block !important;position: relative;}#sk-container-id-2 div.sk-text-repr-fallback {display: none;}</style><div id=\"sk-container-id-2\" class=\"sk-top-container\"><div class=\"sk-text-repr-fallback\"><pre>LogisticRegression()</pre><b>In a Jupyter environment, please rerun this cell to show the HTML representation or trust the notebook. <br />On GitHub, the HTML representation is unable to render, please try loading this page with nbviewer.org.</b></div><div class=\"sk-container\" hidden><div class=\"sk-item\"><div class=\"sk-estimator sk-toggleable\"><input class=\"sk-toggleable__control sk-hidden--visually\" id=\"sk-estimator-id-2\" type=\"checkbox\" checked><label for=\"sk-estimator-id-2\" class=\"sk-toggleable__label sk-toggleable__label-arrow\">LogisticRegression</label><div class=\"sk-toggleable__content\"><pre>LogisticRegression()</pre></div></div></div></div></div>"
            ]
          },
          "metadata": {},
          "execution_count": 39
        }
      ],
      "source": [
        "LG.fit(X_train , y_train)"
      ]
    },
    {
      "cell_type": "code",
      "execution_count": 40,
      "id": "encouraging-asbestos",
      "metadata": {
        "execution": {
          "iopub.execute_input": "2021-05-14T16:30:20.017848Z",
          "iopub.status.busy": "2021-05-14T16:30:20.016989Z",
          "iopub.status.idle": "2021-05-14T16:30:20.021339Z",
          "shell.execute_reply": "2021-05-14T16:30:20.020756Z"
        },
        "papermill": {
          "duration": 0.073863,
          "end_time": "2021-05-14T16:30:20.021492",
          "exception": false,
          "start_time": "2021-05-14T16:30:19.947629",
          "status": "completed"
        },
        "tags": [],
        "id": "encouraging-asbestos"
      },
      "outputs": [],
      "source": [
        "LG_accuracy = LG.score(X_test,y_test)"
      ]
    },
    {
      "cell_type": "code",
      "execution_count": 41,
      "id": "ambient-smart",
      "metadata": {
        "execution": {
          "iopub.execute_input": "2021-05-14T16:30:20.143565Z",
          "iopub.status.busy": "2021-05-14T16:30:20.142789Z",
          "iopub.status.idle": "2021-05-14T16:30:20.146010Z",
          "shell.execute_reply": "2021-05-14T16:30:20.146524Z"
        },
        "papermill": {
          "duration": 0.067082,
          "end_time": "2021-05-14T16:30:20.146705",
          "exception": false,
          "start_time": "2021-05-14T16:30:20.079623",
          "status": "completed"
        },
        "tags": [],
        "colab": {
          "base_uri": "https://localhost:8080/"
        },
        "id": "ambient-smart",
        "outputId": "f004b86e-0784-4ddb-f21d-2b73b252c19f"
      },
      "outputs": [
        {
          "output_type": "execute_result",
          "data": {
            "text/plain": [
              "0.9454545454545454"
            ]
          },
          "metadata": {},
          "execution_count": 41
        }
      ],
      "source": [
        "LG_accuracy"
      ]
    },
    {
      "cell_type": "code",
      "execution_count": 42,
      "id": "derived-thirty",
      "metadata": {
        "execution": {
          "iopub.execute_input": "2021-05-14T16:30:20.266764Z",
          "iopub.status.busy": "2021-05-14T16:30:20.265806Z",
          "iopub.status.idle": "2021-05-14T16:30:20.269601Z",
          "shell.execute_reply": "2021-05-14T16:30:20.270041Z"
        },
        "papermill": {
          "duration": 0.065425,
          "end_time": "2021-05-14T16:30:20.270205",
          "exception": false,
          "start_time": "2021-05-14T16:30:20.204780",
          "status": "completed"
        },
        "tags": [],
        "id": "derived-thirty"
      },
      "outputs": [],
      "source": [
        "accuracy.append(LG_accuracy)"
      ]
    },
    {
      "cell_type": "code",
      "execution_count": 43,
      "id": "cooked-graham",
      "metadata": {
        "execution": {
          "iopub.execute_input": "2021-05-14T16:30:20.390658Z",
          "iopub.status.busy": "2021-05-14T16:30:20.389668Z",
          "iopub.status.idle": "2021-05-14T16:30:20.393431Z",
          "shell.execute_reply": "2021-05-14T16:30:20.393891Z"
        },
        "papermill": {
          "duration": 0.065442,
          "end_time": "2021-05-14T16:30:20.394055",
          "exception": false,
          "start_time": "2021-05-14T16:30:20.328613",
          "status": "completed"
        },
        "tags": [],
        "id": "cooked-graham"
      },
      "outputs": [],
      "source": [
        "model.append('Logistic Regression')"
      ]
    },
    {
      "cell_type": "markdown",
      "id": "crucial-forum",
      "metadata": {
        "papermill": {
          "duration": 0.059535,
          "end_time": "2021-05-14T16:30:20.511540",
          "exception": false,
          "start_time": "2021-05-14T16:30:20.452005",
          "status": "completed"
        },
        "tags": [],
        "id": "crucial-forum"
      },
      "source": [
        "# RANDOM FOREST"
      ]
    },
    {
      "cell_type": "code",
      "execution_count": 44,
      "id": "supported-train",
      "metadata": {
        "execution": {
          "iopub.execute_input": "2021-05-14T16:30:20.632107Z",
          "iopub.status.busy": "2021-05-14T16:30:20.631249Z",
          "iopub.status.idle": "2021-05-14T16:30:20.663934Z",
          "shell.execute_reply": "2021-05-14T16:30:20.663355Z"
        },
        "papermill": {
          "duration": 0.093913,
          "end_time": "2021-05-14T16:30:20.664072",
          "exception": false,
          "start_time": "2021-05-14T16:30:20.570159",
          "status": "completed"
        },
        "tags": [],
        "id": "supported-train"
      },
      "outputs": [],
      "source": [
        "from sklearn.ensemble import RandomForestClassifier"
      ]
    },
    {
      "cell_type": "code",
      "execution_count": 45,
      "id": "invisible-nelson",
      "metadata": {
        "execution": {
          "iopub.execute_input": "2021-05-14T16:30:20.784819Z",
          "iopub.status.busy": "2021-05-14T16:30:20.784205Z",
          "iopub.status.idle": "2021-05-14T16:30:20.787762Z",
          "shell.execute_reply": "2021-05-14T16:30:20.788327Z"
        },
        "papermill": {
          "duration": 0.065843,
          "end_time": "2021-05-14T16:30:20.788512",
          "exception": false,
          "start_time": "2021-05-14T16:30:20.722669",
          "status": "completed"
        },
        "tags": [],
        "id": "invisible-nelson"
      },
      "outputs": [],
      "source": [
        "RF = RandomForestClassifier()"
      ]
    },
    {
      "cell_type": "code",
      "execution_count": 46,
      "id": "nominated-salvation",
      "metadata": {
        "execution": {
          "iopub.execute_input": "2021-05-14T16:30:20.909882Z",
          "iopub.status.busy": "2021-05-14T16:30:20.909253Z",
          "iopub.status.idle": "2021-05-14T16:30:21.301475Z",
          "shell.execute_reply": "2021-05-14T16:30:21.301962Z"
        },
        "papermill": {
          "duration": 0.454136,
          "end_time": "2021-05-14T16:30:21.302128",
          "exception": false,
          "start_time": "2021-05-14T16:30:20.847992",
          "status": "completed"
        },
        "tags": [],
        "colab": {
          "base_uri": "https://localhost:8080/",
          "height": 76
        },
        "id": "nominated-salvation",
        "outputId": "3ddc3ad2-2038-4a1a-bcf8-9ec4478ff527"
      },
      "outputs": [
        {
          "output_type": "execute_result",
          "data": {
            "text/plain": [
              "RandomForestClassifier()"
            ],
            "text/html": [
              "<style>#sk-container-id-3 {color: black;background-color: white;}#sk-container-id-3 pre{padding: 0;}#sk-container-id-3 div.sk-toggleable {background-color: white;}#sk-container-id-3 label.sk-toggleable__label {cursor: pointer;display: block;width: 100%;margin-bottom: 0;padding: 0.3em;box-sizing: border-box;text-align: center;}#sk-container-id-3 label.sk-toggleable__label-arrow:before {content: \"▸\";float: left;margin-right: 0.25em;color: #696969;}#sk-container-id-3 label.sk-toggleable__label-arrow:hover:before {color: black;}#sk-container-id-3 div.sk-estimator:hover label.sk-toggleable__label-arrow:before {color: black;}#sk-container-id-3 div.sk-toggleable__content {max-height: 0;max-width: 0;overflow: hidden;text-align: left;background-color: #f0f8ff;}#sk-container-id-3 div.sk-toggleable__content pre {margin: 0.2em;color: black;border-radius: 0.25em;background-color: #f0f8ff;}#sk-container-id-3 input.sk-toggleable__control:checked~div.sk-toggleable__content {max-height: 200px;max-width: 100%;overflow: auto;}#sk-container-id-3 input.sk-toggleable__control:checked~label.sk-toggleable__label-arrow:before {content: \"▾\";}#sk-container-id-3 div.sk-estimator input.sk-toggleable__control:checked~label.sk-toggleable__label {background-color: #d4ebff;}#sk-container-id-3 div.sk-label input.sk-toggleable__control:checked~label.sk-toggleable__label {background-color: #d4ebff;}#sk-container-id-3 input.sk-hidden--visually {border: 0;clip: rect(1px 1px 1px 1px);clip: rect(1px, 1px, 1px, 1px);height: 1px;margin: -1px;overflow: hidden;padding: 0;position: absolute;width: 1px;}#sk-container-id-3 div.sk-estimator {font-family: monospace;background-color: #f0f8ff;border: 1px dotted black;border-radius: 0.25em;box-sizing: border-box;margin-bottom: 0.5em;}#sk-container-id-3 div.sk-estimator:hover {background-color: #d4ebff;}#sk-container-id-3 div.sk-parallel-item::after {content: \"\";width: 100%;border-bottom: 1px solid gray;flex-grow: 1;}#sk-container-id-3 div.sk-label:hover label.sk-toggleable__label {background-color: #d4ebff;}#sk-container-id-3 div.sk-serial::before {content: \"\";position: absolute;border-left: 1px solid gray;box-sizing: border-box;top: 0;bottom: 0;left: 50%;z-index: 0;}#sk-container-id-3 div.sk-serial {display: flex;flex-direction: column;align-items: center;background-color: white;padding-right: 0.2em;padding-left: 0.2em;position: relative;}#sk-container-id-3 div.sk-item {position: relative;z-index: 1;}#sk-container-id-3 div.sk-parallel {display: flex;align-items: stretch;justify-content: center;background-color: white;position: relative;}#sk-container-id-3 div.sk-item::before, #sk-container-id-3 div.sk-parallel-item::before {content: \"\";position: absolute;border-left: 1px solid gray;box-sizing: border-box;top: 0;bottom: 0;left: 50%;z-index: -1;}#sk-container-id-3 div.sk-parallel-item {display: flex;flex-direction: column;z-index: 1;position: relative;background-color: white;}#sk-container-id-3 div.sk-parallel-item:first-child::after {align-self: flex-end;width: 50%;}#sk-container-id-3 div.sk-parallel-item:last-child::after {align-self: flex-start;width: 50%;}#sk-container-id-3 div.sk-parallel-item:only-child::after {width: 0;}#sk-container-id-3 div.sk-dashed-wrapped {border: 1px dashed gray;margin: 0 0.4em 0.5em 0.4em;box-sizing: border-box;padding-bottom: 0.4em;background-color: white;}#sk-container-id-3 div.sk-label label {font-family: monospace;font-weight: bold;display: inline-block;line-height: 1.2em;}#sk-container-id-3 div.sk-label-container {text-align: center;}#sk-container-id-3 div.sk-container {/* jupyter's `normalize.less` sets `[hidden] { display: none; }` but bootstrap.min.css set `[hidden] { display: none !important; }` so we also need the `!important` here to be able to override the default hidden behavior on the sphinx rendered scikit-learn.org. See: https://github.com/scikit-learn/scikit-learn/issues/21755 */display: inline-block !important;position: relative;}#sk-container-id-3 div.sk-text-repr-fallback {display: none;}</style><div id=\"sk-container-id-3\" class=\"sk-top-container\"><div class=\"sk-text-repr-fallback\"><pre>RandomForestClassifier()</pre><b>In a Jupyter environment, please rerun this cell to show the HTML representation or trust the notebook. <br />On GitHub, the HTML representation is unable to render, please try loading this page with nbviewer.org.</b></div><div class=\"sk-container\" hidden><div class=\"sk-item\"><div class=\"sk-estimator sk-toggleable\"><input class=\"sk-toggleable__control sk-hidden--visually\" id=\"sk-estimator-id-3\" type=\"checkbox\" checked><label for=\"sk-estimator-id-3\" class=\"sk-toggleable__label sk-toggleable__label-arrow\">RandomForestClassifier</label><div class=\"sk-toggleable__content\"><pre>RandomForestClassifier()</pre></div></div></div></div></div>"
            ]
          },
          "metadata": {},
          "execution_count": 46
        }
      ],
      "source": [
        "RF.fit(X_train , y_train)"
      ]
    },
    {
      "cell_type": "code",
      "execution_count": 47,
      "id": "available-symbol",
      "metadata": {
        "execution": {
          "iopub.execute_input": "2021-05-14T16:30:21.423467Z",
          "iopub.status.busy": "2021-05-14T16:30:21.422700Z",
          "iopub.status.idle": "2021-05-14T16:30:21.449562Z",
          "shell.execute_reply": "2021-05-14T16:30:21.450022Z"
        },
        "papermill": {
          "duration": 0.088981,
          "end_time": "2021-05-14T16:30:21.450206",
          "exception": false,
          "start_time": "2021-05-14T16:30:21.361225",
          "status": "completed"
        },
        "tags": [],
        "id": "available-symbol"
      },
      "outputs": [],
      "source": [
        "RF_accuracy = RF.score(X_test,y_test)"
      ]
    },
    {
      "cell_type": "code",
      "execution_count": 48,
      "id": "educational-worry",
      "metadata": {
        "execution": {
          "iopub.execute_input": "2021-05-14T16:30:21.600017Z",
          "iopub.status.busy": "2021-05-14T16:30:21.599392Z",
          "iopub.status.idle": "2021-05-14T16:30:21.603838Z",
          "shell.execute_reply": "2021-05-14T16:30:21.604409Z"
        },
        "papermill": {
          "duration": 0.085515,
          "end_time": "2021-05-14T16:30:21.604585",
          "exception": false,
          "start_time": "2021-05-14T16:30:21.519070",
          "status": "completed"
        },
        "tags": [],
        "colab": {
          "base_uri": "https://localhost:8080/"
        },
        "id": "educational-worry",
        "outputId": "03bc3a66-6bed-43ef-e014-3356593b4a31"
      },
      "outputs": [
        {
          "output_type": "execute_result",
          "data": {
            "text/plain": [
              "0.9931818181818182"
            ]
          },
          "metadata": {},
          "execution_count": 48
        }
      ],
      "source": [
        "RF_accuracy"
      ]
    },
    {
      "cell_type": "code",
      "execution_count": 49,
      "id": "solid-oriental",
      "metadata": {
        "execution": {
          "iopub.execute_input": "2021-05-14T16:30:21.727327Z",
          "iopub.status.busy": "2021-05-14T16:30:21.726672Z",
          "iopub.status.idle": "2021-05-14T16:30:21.730577Z",
          "shell.execute_reply": "2021-05-14T16:30:21.731023Z"
        },
        "papermill": {
          "duration": 0.066756,
          "end_time": "2021-05-14T16:30:21.731186",
          "exception": false,
          "start_time": "2021-05-14T16:30:21.664430",
          "status": "completed"
        },
        "tags": [],
        "id": "solid-oriental"
      },
      "outputs": [],
      "source": [
        "accuracy.append(RF_accuracy)\n",
        "model.append('Random Forest')"
      ]
    },
    {
      "cell_type": "code",
      "execution_count": 50,
      "id": "quarterly-spanish",
      "metadata": {
        "execution": {
          "iopub.execute_input": "2021-05-14T16:30:21.855997Z",
          "iopub.status.busy": "2021-05-14T16:30:21.855310Z",
          "iopub.status.idle": "2021-05-14T16:30:21.858152Z",
          "shell.execute_reply": "2021-05-14T16:30:21.858698Z"
        },
        "papermill": {
          "duration": 0.067856,
          "end_time": "2021-05-14T16:30:21.858887",
          "exception": false,
          "start_time": "2021-05-14T16:30:21.791031",
          "status": "completed"
        },
        "tags": [],
        "colab": {
          "base_uri": "https://localhost:8080/"
        },
        "id": "quarterly-spanish",
        "outputId": "d6a67d6f-a71d-4a2e-a310-00228f924064"
      },
      "outputs": [
        {
          "output_type": "execute_result",
          "data": {
            "text/plain": [
              "['Decision Tree', 'Logistic Regression', 'Random Forest']"
            ]
          },
          "metadata": {},
          "execution_count": 50
        }
      ],
      "source": [
        "model"
      ]
    },
    {
      "cell_type": "code",
      "execution_count": 51,
      "id": "characteristic-outline",
      "metadata": {
        "execution": {
          "iopub.execute_input": "2021-05-14T16:30:21.987722Z",
          "iopub.status.busy": "2021-05-14T16:30:21.987086Z",
          "iopub.status.idle": "2021-05-14T16:30:21.993286Z",
          "shell.execute_reply": "2021-05-14T16:30:21.992748Z"
        },
        "papermill": {
          "duration": 0.071507,
          "end_time": "2021-05-14T16:30:21.993423",
          "exception": false,
          "start_time": "2021-05-14T16:30:21.921916",
          "status": "completed"
        },
        "tags": [],
        "colab": {
          "base_uri": "https://localhost:8080/"
        },
        "id": "characteristic-outline",
        "outputId": "feae7476-2436-4916-c1eb-00d39a8ce474"
      },
      "outputs": [
        {
          "output_type": "execute_result",
          "data": {
            "text/plain": [
              "[0.9886363636363636, 0.9454545454545454, 0.9931818181818182]"
            ]
          },
          "metadata": {},
          "execution_count": 51
        }
      ],
      "source": [
        "accuracy"
      ]
    },
    {
      "cell_type": "code",
      "execution_count": 52,
      "id": "considered-syndication",
      "metadata": {
        "execution": {
          "iopub.execute_input": "2021-05-14T16:30:22.144539Z",
          "iopub.status.busy": "2021-05-14T16:30:22.143527Z",
          "iopub.status.idle": "2021-05-14T16:30:22.245143Z",
          "shell.execute_reply": "2021-05-14T16:30:22.245637Z"
        },
        "papermill": {
          "duration": 0.190959,
          "end_time": "2021-05-14T16:30:22.245820",
          "exception": false,
          "start_time": "2021-05-14T16:30:22.054861",
          "status": "completed"
        },
        "tags": [],
        "colab": {
          "base_uri": "https://localhost:8080/",
          "height": 447
        },
        "id": "considered-syndication",
        "outputId": "9672c831-d6fb-4252-fd73-b777ad6769f0"
      },
      "outputs": [
        {
          "output_type": "execute_result",
          "data": {
            "text/plain": [
              "<Axes: >"
            ]
          },
          "metadata": {},
          "execution_count": 52
        },
        {
          "output_type": "display_data",
          "data": {
            "text/plain": [
              "<Figure size 640x480 with 1 Axes>"
            ],
            "image/png": "[encoded data removed]"
          },
          "metadata": {}
        }
      ],
      "source": [
        "sns.barplot(x = model , y = accuracy ,palette ='Spectral')"
      ]
    },
    {
      "cell_type": "code",
      "source": [],
      "metadata": {
        "id": "g4OYxbuP7gum"
      },
      "id": "g4OYxbuP7gum",
      "execution_count": 52,
      "outputs": []
    }
  ],
  "metadata": {
    "kernelspec": {
      "display_name": "Python 3",
      "language": "python",
      "name": "python3"
    },
    "language_info": {
      "codemirror_mode": {
        "name": "ipython",
        "version": 3
      },
      "file_extension": ".py",
      "mimetype": "text/x-python",
      "name": "python",
      "nbconvert_exporter": "python",
      "pygments_lexer": "ipython3",
      "version": "3.7.10"
    },
    "papermill": {
      "default_parameters": {},
      "duration": 21.949453,
      "end_time": "2021-05-14T16:30:23.959058",
      "environment_variables": {},
      "exception": null,
      "input_path": "__notebook__.ipynb",
      "output_path": "__notebook__.ipynb",
      "parameters": {},
      "start_time": "2021-05-14T16:30:02.009605",
      "version": "2.3.3"
    },
    "colab": {
      "provenance": [],
      "include_colab_link": true
    }
  },
  "nbformat": 4,
  "nbformat_minor": 5
}